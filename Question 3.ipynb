{
 "cells": [
  {
   "cell_type": "code",
   "execution_count": 1,
   "id": "d80e122b",
   "metadata": {},
   "outputs": [],
   "source": [
    "import matplotlib.pyplot as plt\n",
    "import numpy as np\n",
    "import pandas as pd"
   ]
  },
  {
   "cell_type": "code",
   "execution_count": 3,
   "id": "f63f90f7",
   "metadata": {},
   "outputs": [],
   "source": [
    "#read values from excel\n",
    "train_data = pd.read_excel('/content/drive/MyDrive/Asssignment4_Data.xlsx', sheet_name='Train',header=0).to_numpy()\n",
    "test_data = pd.read_excel('/content/drive/MyDrive/Asssignment4_Data.xlsx', sheet_name='Test',header=0).to_numpy()"
   ]
  },
  {
   "cell_type": "code",
   "execution_count": 4,
   "id": "b5a45805",
   "metadata": {},
   "outputs": [],
   "source": [
    "#Get the trainign and test data and corresponding labels\n",
    "x_train = train_data[:,1:-1]\n",
    "y_train = train_data[:,-1]\n",
    "x_test = test_data[:,1:-1]\n",
    "y_test = test_data[:,-1]"
   ]
  },
  {
   "cell_type": "code",
   "execution_count": 6,
   "id": "e4d24bfc",
   "metadata": {},
   "outputs": [],
   "source": [
    "rowtr = x_train.shape[0]\n",
    "coltr = x_train.shape[1]\n",
    "rowtst = x_test.shape[0]\n",
    "coltst = x_test.shape[1]"
   ]
  },
  {
   "cell_type": "code",
   "execution_count": 7,
   "id": "397558f9",
   "metadata": {},
   "outputs": [],
   "source": [
    "num_of_labels = 3\n",
    "accuracy = np.zeros(rowtr)\n",
    "\n",
    "for k in range(rowtr):\n",
    "  #initialize vectors\n",
    "  dist = np.zeros(rowtr)\n",
    "  predicted_label = [\"\" for x in range(rowtst)]\n",
    "\n",
    "  for i in range(rowtst):\n",
    "    #calculate Eucleadian distances\n",
    "    for j in range(rowtr):\n",
    "      dist[j] = np.sqrt(np.sum((x_test[i,:] - x_train[j,:])**2))\n",
    "    \n",
    "    #sort the arguments\n",
    "    sorted_dist_arg = np.argsort(dist)\n",
    "\n",
    "    #initialize votes\n",
    "    vote = np.zeros(num_of_labels) #0 for apartment, 1 for Condo and 2 for house\n",
    "\n",
    "    #take votes from sorted list\n",
    "    for c in range(k):\n",
    "      predict = y_train[sorted_dist_arg[c]]\n",
    "      if(predict == 'Apartment'):\n",
    "        vote[0] = vote[0] + 1\n",
    "      elif(predict == 'Condo'):\n",
    "        vote[1] = vote[1] + 1\n",
    "      else:\n",
    "        vote[2] = vote[2] + 1\n",
    "\n",
    "    #Get the maximum votes\n",
    "    predicted_label_number= np.argmax(vote)\n",
    "\n",
    "    #Convert to predicted labels\n",
    "    if(predicted_label_number == 0):\n",
    "      predicted_label[i] = 'Apartment'\n",
    "    elif(predicted_label_number == 1):\n",
    "      predicted_label[i] = 'Condo'\n",
    "    else:\n",
    "      predicted_label[i] = 'House'\n",
    "\n",
    "  #Calculate accuracy for the test data\n",
    "  total_count = rowtst\n",
    "  correct_count = 0;\n",
    "\n",
    "  for a in range(rowtst):\n",
    "    if(predicted_label[a]==y_test[a]):\n",
    "      correct_count = correct_count + 1\n",
    "  accuracy[k] = correct_count/total_count * 100   "
   ]
  },
  {
   "cell_type": "code",
   "execution_count": 8,
   "id": "e8e4b8db",
   "metadata": {},
   "outputs": [
    {
     "data": {
      "image/png": "[encoded data removed]",
      "text/plain": [
       "<Figure size 432x288 with 1 Axes>"
      ]
     },
     "metadata": {
      "needs_background": "light"
     },
     "output_type": "display_data"
    }
   ],
   "source": [
    "x = list(range(1,rowtr+1))\n",
    "plt.plot(x,accuracy,'-*')\n",
    "plt.xlabel(\"k\")\n",
    "plt.ylabel(\"Accuracy (%)\")#\n",
    "plt.grid()\n",
    "plt.show()"
   ]
  },
  {
   "cell_type": "markdown",
   "id": "6a5a5196",
   "metadata": {},
   "source": [
    "## Report\n",
    "\n",
    "We cannot take k = 1 as that means considering every point as a cluster and it takes so much time. We observe that the accuracy using k value is low from 2 to 16. But the highest accuracy is obtained at k = 17. After that it does not change much. So, the optimal k value would be 17. The highest accuracy is 60%."
   ]
  }
 ],
 "metadata": {
  "kernelspec": {
   "display_name": "Python 3 (ipykernel)",
   "language": "python",
   "name": "python3"
  },
  "language_info": {
   "codemirror_mode": {
    "name": "ipython",
    "version": 3
   },
   "file_extension": ".py",
   "mimetype": "text/x-python",
   "name": "python",
   "nbconvert_exporter": "python",
   "pygments_lexer": "ipython3",
   "version": "3.9.12"
  },
  "varInspector": {
   "cols": {
    "lenName": 16,
    "lenType": 16,
    "lenVar": 40
   },
   "kernels_config": {
    "python": {
     "delete_cmd_postfix": "",
     "delete_cmd_prefix": "del ",
     "library": "var_list.py",
     "varRefreshCmd": "print(var_dic_list())"
    },
    "r": {
     "delete_cmd_postfix": ") ",
     "delete_cmd_prefix": "rm(",
     "library": "var_list.r",
     "varRefreshCmd": "cat(var_dic_list()) "
    }
   },
   "types_to_exclude": [
    "module",
    "function",
    "builtin_function_or_method",
    "instance",
    "_Feature"
   ],
   "window_display": false
  }
 },
 "nbformat": 4,
 "nbformat_minor": 5
}

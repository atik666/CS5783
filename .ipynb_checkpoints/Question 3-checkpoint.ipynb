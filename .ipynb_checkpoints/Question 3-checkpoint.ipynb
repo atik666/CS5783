{
 "cells": [
  {
   "cell_type": "markdown",
   "metadata": {},
   "source": [
    "[Question 3]\n",
    "Implement a locally weighted linear regression model for the data from Question 1. Refer to Slide 33\n",
    "from Lecture 4 for reference. You should implement your own version of linear regression either using\n",
    "gradient descent or normal equations. You SHOULD NOT use any pre-packaged library such as\n",
    "Sci-Kit Learn.\n",
    "Answer the following questions:\n",
    "1. Do you need any basis functions when using the locally weighted approach?\n",
    "2. What is the difference between this implementation and the one for Question 1?\n",
    "Submission Requirements:\n",
    "You will need to submit the following as a single ZIP file:\n",
    "1. A short report detailing your work and answers to the questions presented above.\n",
    "2. The link to your code on Github as a IPython notebook that can be run on Google Colab.\n",
    "3. A README file on any dependencies that are required to run your code.\n",
    "Note:\n",
    "1. If your code does not run on Colab, you will not get any credit for the code segment. We will\n",
    "only grade what is in your report.\n",
    "a. This includes any syntax errors due to indentation, unnamed/unknown libraries that\n",
    "were not listed in the README file, etc.\n",
    "2. Please submit code only in Python and in the IPython notebook format. You can write your\n",
    "answers as part of the notebook if you do not want a separate report file, but it must be\n",
    "comprehensive.\n",
    "a. Any code not in Python will not be graded at all."
   ]
  },
  {
   "cell_type": "code",
   "execution_count": null,
   "metadata": {},
   "outputs": [],
   "source": [
    "# import libraries\n",
    "import numpy as np\n",
    "import matplotlib.pyplot as plt\n",
    "import copy"
   ]
  },
  {
   "cell_type": "code",
   "execution_count": null,
   "metadata": {},
   "outputs": [],
   "source": [
    "# Load data\n",
    "x_train = np.load('x_train.npy')\n",
    "y_train = np.expand_dims(np.load('y_train.npy'), axis=1)\n",
    "x_test = np.load('x_test.npy') \n",
    "y_test = np.load('y_test.npy')"
   ]
  }
 ],
 "metadata": {
  "kernelspec": {
   "display_name": "Python 3",
   "language": "python",
   "name": "python3"
  },
  "language_info": {
   "codemirror_mode": {
    "name": "ipython",
    "version": 3
   },
   "file_extension": ".py",
   "mimetype": "text/x-python",
   "name": "python",
   "nbconvert_exporter": "python",
   "pygments_lexer": "ipython3",
   "version": "3.8.3"
  },
  "varInspector": {
   "cols": {
    "lenName": 16,
    "lenType": 16,
    "lenVar": 40
   },
   "kernels_config": {
    "python": {
     "delete_cmd_postfix": "",
     "delete_cmd_prefix": "del ",
     "library": "var_list.py",
     "varRefreshCmd": "print(var_dic_list())"
    },
    "r": {
     "delete_cmd_postfix": ") ",
     "delete_cmd_prefix": "rm(",
     "library": "var_list.r",
     "varRefreshCmd": "cat(var_dic_list()) "
    }
   },
   "types_to_exclude": [
    "module",
    "function",
    "builtin_function_or_method",
    "instance",
    "_Feature"
   ],
   "window_display": false
  }
 },
 "nbformat": 4,
 "nbformat_minor": 4
}

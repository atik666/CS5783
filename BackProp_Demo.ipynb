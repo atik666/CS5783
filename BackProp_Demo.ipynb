{
 "cells": [
  {
   "cell_type": "code",
   "execution_count": 1,
   "metadata": {
    "id": "J1wyMfiEocSA"
   },
   "outputs": [],
   "source": [
    "import numpy as np"
   ]
  },
  {
   "cell_type": "code",
   "execution_count": 2,
   "metadata": {
    "id": "3Tgf43tDovEu"
   },
   "outputs": [],
   "source": [
    "# Define activation function\n",
    "def sigmoid(z):\n",
    "\treturn 1/(1 + np.exp(-z))\n",
    "\n",
    "def sigmoid_derivative(z):\n",
    "  return sigmoid(z)*(1-sigmoid(z))"
   ]
  },
  {
   "cell_type": "code",
   "execution_count": 4,
   "metadata": {
    "colab": {
     "base_uri": "https://localhost:8080/"
    },
    "id": "Ly_v7IuxopIs",
    "outputId": "e8b8cf57-971b-470d-9755-c0b5aef16c9b"
   },
   "outputs": [
    {
     "name": "stdout",
     "output_type": "stream",
     "text": [
      "X (2, 1)\n",
      "X:  [[0.16403489]\n",
      " [0.9321915 ]]\n",
      "Y 0\n",
      "---------------------\n",
      "Initial parameters:\n",
      "W1 [[0.12965229 0.63485294]\n",
      " [0.58026088 0.58834642]]\n",
      "b1 [[0.47665676]\n",
      " [0.15547139]]\n",
      "---------------------\n",
      "W2 [[0.7137364  0.59550398]]\n",
      "b2 [[0.41107774]]\n"
     ]
    }
   ],
   "source": [
    "# Define input\n",
    "x = np.random.uniform(0,1,(2,1))\n",
    "y = np.random.randint(0, 2)\n",
    "\n",
    "# Define initial parameters\n",
    "W1 = np.random.rand(2,2)\n",
    "b1 = np.random.rand(2,1)\n",
    "W2 = np.random.rand(1,2)\n",
    "b2 = np.random.rand(1,1)\n",
    "\n",
    "print(\"X\", x.shape)\n",
    "print(\"X: \", x)\n",
    "print(\"Y\", y)\n",
    "print(\"---------------------\")\n",
    "print(\"Initial parameters:\")\n",
    "print(\"W1\", W1)\n",
    "print(\"b1\", b1)\n",
    "print(\"---------------------\")\n",
    "print(\"W2\", W2)\n",
    "print(\"b2\", b2)"
   ]
  },
  {
   "cell_type": "code",
   "execution_count": 5,
   "metadata": {
    "colab": {
     "base_uri": "https://localhost:8080/"
    },
    "id": "zfpKx3ngoscR",
    "outputId": "db768dde-49d7-4557-9d04-1e76c1850a90"
   },
   "outputs": [
    {
     "name": "stdout",
     "output_type": "stream",
     "text": [
      "Prediction: [[0.79510185]] Actual: 0\n"
     ]
    }
   ],
   "source": [
    "# Fwd Pass\n",
    "z1 = np.dot(W1, x) + b1\n",
    "a1 = sigmoid(z1)\n",
    "\n",
    "z2 = np.dot(W2, a1) + b2\n",
    "a2 = sigmoid(z2)\n",
    "\n",
    "# Initial output\n",
    "print(\"Prediction:\", a2, \"Actual:\", y)"
   ]
  },
  {
   "cell_type": "code",
   "execution_count": 7,
   "metadata": {
    "id": "bNrfUqJPpCbL"
   },
   "outputs": [],
   "source": [
    "# Backward pass\n",
    "\n",
    "# Compute gradients\n",
    "dz2 = (a2 - y)\n",
    "dW2 = np.dot(dz2, a1.T)\n",
    "db2 = dz2\n",
    "dz1 = np.dot(W2.T, dz2) * sigmoid(z1) * (1-sigmoid(z1))\n",
    "dW1 = np.dot(dz1, x.T)\n",
    "db1 = dz1\n",
    "\n",
    "# Update weights\n",
    "W1 = W1 - dW1\n",
    "W2 = W2 - dW2\n",
    "b1 = b1 - db1\n",
    "b2 = b2 - db2"
   ]
  },
  {
   "cell_type": "code",
   "execution_count": 9,
   "metadata": {
    "colab": {
     "base_uri": "https://localhost:8080/"
    },
    "id": "EtRC2uWdpScV",
    "outputId": "d1644516-e4a8-4fcf-9944-1924b3e123bf"
   },
   "outputs": [
    {
     "name": "stdout",
     "output_type": "stream",
     "text": [
      "Initial Prediction [[0.79510185]] New Prediction: [[0.43303822]] Actual: 0\n"
     ]
    }
   ],
   "source": [
    "# Fwd Pass with new weights\n",
    "z1New = np.dot(W1, x) + b1\n",
    "a1New = sigmoid(z1New)\n",
    "z2New = np.dot(W2, a1New) + b2\n",
    "a2New = sigmoid(z2New)\n",
    "print(\"Initial Prediction\", a2, \"New Prediction:\", a2New, \"Actual:\", y)"
   ]
  },
  {
   "cell_type": "code",
   "execution_count": 10,
   "metadata": {
    "colab": {
     "base_uri": "https://localhost:8080/"
    },
    "id": "1RTw6_crpaLD",
    "outputId": "82f0cdcc-caf0-456f-ad51-060269c6b471"
   },
   "outputs": [
    {
     "name": "stdout",
     "output_type": "stream",
     "text": [
      "[[0.137536]] [[0.79510185]]\n",
      "[[0.03021253]] [[0.79510185]]\n",
      "[[0.00509958]] [[0.79510185]]\n",
      "[[0.00068608]] [[0.79510185]]\n",
      "[[8.03092202e-05]] [[0.79510185]]\n",
      "[[9.29574426e-06]] [[0.79510185]]\n",
      "[[1.1531139e-06]] [[0.79510185]]\n",
      "[[1.54070864e-07]] [[0.79510185]]\n",
      "[[2.15417808e-08]] [[0.79510185]]\n",
      "[[3.07231292e-09]] [[0.79510185]]\n",
      "[[4.41128592e-10]] [[0.79510185]]\n",
      "[[6.345323e-11]] [[0.79510185]]\n",
      "[[9.1309486e-12]] [[0.79510185]]\n",
      "[[1.31404271e-12]] [[0.79510185]]\n",
      "[[1.89107072e-13]] [[0.79510185]]\n",
      "[[2.72148937e-14]] [[0.79510185]]\n",
      "[[3.91656714e-15]] [[0.79510185]]\n",
      "[[5.63643516e-16]] [[0.79510185]]\n",
      "[[8.11154262e-17]] [[0.79510185]]\n",
      "[[1.16735351e-17]] [[0.79510185]]\n",
      "[[1.67996925e-18]] [[0.79510185]]\n",
      "[[2.4176881e-19]] [[0.79510185]]\n",
      "[[3.47935876e-20]] [[0.79510185]]\n",
      "[[5.00723705e-21]] [[0.79510185]]\n",
      "[[7.20604701e-22]] [[0.79510185]]\n"
     ]
    }
   ],
   "source": [
    "# Backprop\n",
    "def backprop(W1, W2, b1, b2):\n",
    "\tfor i in range(25):\n",
    "\t\tdz2 = (a2 - y)\n",
    "\t\tdW2 = np.dot(dz2, a1.T)\n",
    "\t\tdb2 = dz2\n",
    "\t\tdz1 = np.dot(W2.T, dz2) * sigmoid(z1) * (1-sigmoid(z1))\n",
    "\t\tdW1 = np.dot(dz1, x.T)\n",
    "\t\tdb1 = dz1\n",
    "\t\tW1 = W1 - dW1\n",
    "\t\tW2 = W2 - dW2\n",
    "\t\tb1 = b1 - db1\n",
    "\t\tb2 = b2 - db2\n",
    "\t\tz1New = np.dot(W1, x) + b1\n",
    "\t\ta1New = sigmoid(z1New)\n",
    "\t\tz2New = np.dot(W2, a1New) + b2\n",
    "\t\ta2New = sigmoid(z2New)\n",
    "\t\tprint(a2New, a2)\n",
    "\n",
    "backprop(W1, W2, b1, b2)"
   ]
  },
  {
   "cell_type": "code",
   "execution_count": 12,
   "metadata": {
    "colab": {
     "base_uri": "https://localhost:8080/"
    },
    "id": "Kny-q6s0pnQ1",
    "outputId": "e209623e-ebd0-425e-9dd2-ba301fa034ef"
   },
   "outputs": [
    {
     "name": "stdout",
     "output_type": "stream",
     "text": [
      "[[0.76234952]] [[0.79510185]]\n",
      "[[0.82876186]] [[0.79510185]]\n",
      "[[0.88028414]] [[0.79510185]]\n",
      "[[0.91847916]] [[0.79510185]]\n",
      "[[0.94575329]] [[0.79510185]]\n",
      "[[0.96463402]] [[0.79510185]]\n",
      "[[0.97736619]] [[0.79510185]]\n",
      "[[0.98575874]] [[0.79510185]]\n",
      "[[0.99117923]] [[0.79510185]]\n",
      "[[0.99461549]] [[0.79510185]]\n",
      "[[0.99675659]] [[0.79510185]]\n",
      "[[0.9980695]] [[0.79510185]]\n",
      "[[0.99886284]] [[0.79510185]]\n",
      "[[0.99933596]] [[0.79510185]]\n",
      "[[0.99961488]] [[0.79510185]]\n",
      "[[0.99977774]] [[0.79510185]]\n",
      "[[0.99987213]] [[0.79510185]]\n",
      "[[0.99992652]] [[0.79510185]]\n",
      "[[0.99995776]] [[0.79510185]]\n",
      "[[0.99997568]] [[0.79510185]]\n",
      "[[0.99998595]] [[0.79510185]]\n",
      "[[0.99999186]] [[0.79510185]]\n",
      "[[0.99999526]] [[0.79510185]]\n",
      "[[0.99999723]] [[0.79510185]]\n",
      "[[0.99999837]] [[0.79510185]]\n"
     ]
    }
   ],
   "source": [
    "x = np.random.uniform(0,1,(2,1))\n",
    "y = np.random.randint(0, 2)\n",
    "\n",
    "# Define input\n",
    "x = np.random.uniform(0,1,(2,1))\n",
    "y = np.random.randint(1, 2)\n",
    "\n",
    "# Define initial parameters\n",
    "W1 = np.random.rand(2,2)\n",
    "b1 = np.random.rand(2,1)\n",
    "W2 = np.random.rand(1,2)\n",
    "b2 = np.random.rand(1,1)\n",
    "\n",
    "backprop(W1, W2, b1, b2)"
   ]
  },
  {
   "cell_type": "code",
   "execution_count": null,
   "metadata": {},
   "outputs": [],
   "source": []
  }
 ],
 "metadata": {
  "colab": {
   "provenance": []
  },
  "kernelspec": {
   "display_name": "Python 3",
   "language": "python",
   "name": "python3"
  },
  "language_info": {
   "codemirror_mode": {
    "name": "ipython",
    "version": 3
   },
   "file_extension": ".py",
   "mimetype": "text/x-python",
   "name": "python",
   "nbconvert_exporter": "python",
   "pygments_lexer": "ipython3",
   "version": "3.8.3"
  },
  "varInspector": {
   "cols": {
    "lenName": 16,
    "lenType": 16,
    "lenVar": 40
   },
   "kernels_config": {
    "python": {
     "delete_cmd_postfix": "",
     "delete_cmd_prefix": "del ",
     "library": "var_list.py",
     "varRefreshCmd": "print(var_dic_list())"
    },
    "r": {
     "delete_cmd_postfix": ") ",
     "delete_cmd_prefix": "rm(",
     "library": "var_list.r",
     "varRefreshCmd": "cat(var_dic_list()) "
    }
   },
   "position": {
    "height": "511.844px",
    "left": "1548px",
    "right": "20px",
    "top": "120px",
    "width": "352px"
   },
   "types_to_exclude": [
    "module",
    "function",
    "builtin_function_or_method",
    "instance",
    "_Feature"
   ],
   "window_display": true
  }
 },
 "nbformat": 4,
 "nbformat_minor": 1
}

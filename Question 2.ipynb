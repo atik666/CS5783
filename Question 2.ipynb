{
 "cells": [
  {
   "cell_type": "code",
   "execution_count": 9,
   "metadata": {},
   "outputs": [],
   "source": [
    "import numpy as np\n",
    "import pandas as pd\n",
    "from sklearn import tree\n",
    "import graphviz\n",
    "from sklearn import metrics"
   ]
  },
  {
   "cell_type": "code",
   "execution_count": 12,
   "metadata": {},
   "outputs": [],
   "source": [
    "#read values from excel\n",
    "train_data = pd.read_excel('/content/drive/MyDrive/Asssignment4_Data.xlsx', sheet_name='Train',header=0).to_numpy()\n",
    "test_data = pd.read_excel('/content/drive/MyDrive/Asssignment4_Data.xlsx', sheet_name='Test',header=0).to_numpy()"
   ]
  },
  {
   "cell_type": "code",
   "execution_count": 13,
   "metadata": {},
   "outputs": [],
   "source": [
    "#Get the trainign and test data and corresponding labels\n",
    "x_train = train_data[:,1:-1]\n",
    "y_train = train_data[:,-1]\n",
    "x_test = test_data[:,1:-1]\n",
    "y_test = test_data[:,-1]"
   ]
  },
  {
   "cell_type": "code",
   "execution_count": 16,
   "metadata": {},
   "outputs": [
    {
     "data": {
      "text/plain": [
       "[Text(0.5, 0.9166666666666666, 'X[7] <= 36.0\\ngini = 0.665\\nsamples = 20\\nvalue = [7, 6, 7]'),\n",
       " Text(0.3, 0.75, 'X[0] <= 8.411\\ngini = 0.56\\nsamples = 10\\nvalue = [2, 2, 6]'),\n",
       " Text(0.2, 0.5833333333333334, 'X[7] <= 19.5\\ngini = 0.375\\nsamples = 8\\nvalue = [0, 2, 6]'),\n",
       " Text(0.1, 0.4166666666666667, 'gini = 0.0\\nsamples = 1\\nvalue = [0, 1, 0]'),\n",
       " Text(0.3, 0.4166666666666667, 'X[3] <= 1.173\\ngini = 0.245\\nsamples = 7\\nvalue = [0, 1, 6]'),\n",
       " Text(0.2, 0.25, 'X[7] <= 31.0\\ngini = 0.5\\nsamples = 2\\nvalue = [0, 1, 1]'),\n",
       " Text(0.1, 0.08333333333333333, 'gini = 0.0\\nsamples = 1\\nvalue = [0, 0, 1]'),\n",
       " Text(0.3, 0.08333333333333333, 'gini = 0.0\\nsamples = 1\\nvalue = [0, 1, 0]'),\n",
       " Text(0.4, 0.25, 'gini = 0.0\\nsamples = 5\\nvalue = [0, 0, 5]'),\n",
       " Text(0.4, 0.5833333333333334, 'gini = 0.0\\nsamples = 2\\nvalue = [2, 0, 0]'),\n",
       " Text(0.7, 0.75, 'X[0] <= 4.55\\ngini = 0.58\\nsamples = 10\\nvalue = [5, 4, 1]'),\n",
       " Text(0.6, 0.5833333333333334, 'gini = 0.0\\nsamples = 2\\nvalue = [0, 2, 0]'),\n",
       " Text(0.8, 0.5833333333333334, 'X[2] <= 5.5\\ngini = 0.531\\nsamples = 8\\nvalue = [5, 2, 1]'),\n",
       " Text(0.7, 0.4166666666666667, 'X[7] <= 58.0\\ngini = 0.278\\nsamples = 6\\nvalue = [5, 0, 1]'),\n",
       " Text(0.6, 0.25, 'gini = 0.0\\nsamples = 5\\nvalue = [5, 0, 0]'),\n",
       " Text(0.8, 0.25, 'gini = 0.0\\nsamples = 1\\nvalue = [0, 0, 1]'),\n",
       " Text(0.9, 0.4166666666666667, 'gini = 0.0\\nsamples = 2\\nvalue = [0, 2, 0]')]"
      ]
     },
     "execution_count": 16,
     "metadata": {},
     "output_type": "execute_result"
    },
    {
     "data": {
      "image/png": "[encoded data removed]",
      "text/plain": [
       "<Figure size 432x288 with 1 Axes>"
      ]
     },
     "metadata": {
      "needs_background": "light"
     },
     "output_type": "display_data"
    }
   ],
   "source": [
    "clf = tree.DecisionTreeClassifier()\n",
    "clf = clf.fit(x_train, y_train)\n",
    "tree.plot_tree(clf)"
   ]
  },
  {
   "cell_type": "code",
   "execution_count": 17,
   "metadata": {},
   "outputs": [],
   "source": [
    "features = pd.read_excel('Asssignment4_Data.xlsx', sheet_name='Train',header=0).columns.to_numpy()\n",
    "features = features[1:9]\n",
    "classes = clf.classes_   #'Apartment, 'Condo', 'House'"
   ]
  },
  {
   "cell_type": "code",
   "execution_count": 19,
   "metadata": {},
   "outputs": [
    {
     "data": {
      "image/svg+xml": [
       "<?xml version=\"1.0\" encoding=\"UTF-8\" standalone=\"no\"?>\n",
       "<!DOCTYPE svg PUBLIC \"-//W3C//DTD SVG 1.1//EN\"\n",
       " \"http://www.w3.org/Graphics/SVG/1.1/DTD/svg11.dtd\">\n",
       "<!-- Generated by graphviz version 2.43.0 (0)\n",
       " -->\n",
       "<!-- Title: Tree Pages: 1 -->\n",
       "<svg width=\"820pt\" height=\"671pt\"\n",
       " viewBox=\"0.00 0.00 820.00 671.00\" xmlns=\"http://www.w3.org/2000/svg\" xmlns:xlink=\"http://www.w3.org/1999/xlink\">\n",
       "<g id=\"graph0\" class=\"graph\" transform=\"scale(1 1) rotate(0) translate(4 667)\">\n",
       "<title>Tree</title>\n",
       "<polygon fill=\"white\" stroke=\"transparent\" points=\"-4,4 -4,-667 816,-667 816,4 -4,4\"/>\n",
       "<!-- 0 -->\n",
       "<g id=\"node1\" class=\"node\">\n",
       "<title>0</title>\n",
       "<path fill=\"#ffffff\" stroke=\"black\" d=\"M474.5,-663C474.5,-663 340.5,-663 340.5,-663 334.5,-663 328.5,-657 328.5,-651 328.5,-651 328.5,-592 328.5,-592 328.5,-586 334.5,-580 340.5,-580 340.5,-580 474.5,-580 474.5,-580 480.5,-580 486.5,-586 486.5,-592 486.5,-592 486.5,-651 486.5,-651 486.5,-657 480.5,-663 474.5,-663\"/>\n",
       "<text text-anchor=\"start\" x=\"336.5\" y=\"-647.8\" font-family=\"Helvetica,sans-Serif\" font-size=\"14.00\">Age of home ≤ 36.0</text>\n",
       "<text text-anchor=\"start\" x=\"363.5\" y=\"-632.8\" font-family=\"Helvetica,sans-Serif\" font-size=\"14.00\">gini = 0.665</text>\n",
       "<text text-anchor=\"start\" x=\"359\" y=\"-617.8\" font-family=\"Helvetica,sans-Serif\" font-size=\"14.00\">samples = 20</text>\n",
       "<text text-anchor=\"start\" x=\"350\" y=\"-602.8\" font-family=\"Helvetica,sans-Serif\" font-size=\"14.00\">value = [7, 6, 7]</text>\n",
       "<text text-anchor=\"start\" x=\"342.5\" y=\"-587.8\" font-family=\"Helvetica,sans-Serif\" font-size=\"14.00\">class = Apartment</text>\n",
       "</g>\n",
       "<!-- 1 -->\n",
       "<g id=\"node2\" class=\"node\">\n",
       "<title>1</title>\n",
       "<path fill=\"#c09cf2\" stroke=\"black\" d=\"M388.5,-544C388.5,-544 260.5,-544 260.5,-544 254.5,-544 248.5,-538 248.5,-532 248.5,-532 248.5,-473 248.5,-473 248.5,-467 254.5,-461 260.5,-461 260.5,-461 388.5,-461 388.5,-461 394.5,-461 400.5,-467 400.5,-473 400.5,-473 400.5,-532 400.5,-532 400.5,-538 394.5,-544 388.5,-544\"/>\n",
       "<text text-anchor=\"start\" x=\"256.5\" y=\"-528.8\" font-family=\"Helvetica,sans-Serif\" font-size=\"14.00\">Local Price ≤ 8.411</text>\n",
       "<text text-anchor=\"start\" x=\"285\" y=\"-513.8\" font-family=\"Helvetica,sans-Serif\" font-size=\"14.00\">gini = 0.56</text>\n",
       "<text text-anchor=\"start\" x=\"276\" y=\"-498.8\" font-family=\"Helvetica,sans-Serif\" font-size=\"14.00\">samples = 10</text>\n",
       "<text text-anchor=\"start\" x=\"267\" y=\"-483.8\" font-family=\"Helvetica,sans-Serif\" font-size=\"14.00\">value = [2, 2, 6]</text>\n",
       "<text text-anchor=\"start\" x=\"274.5\" y=\"-468.8\" font-family=\"Helvetica,sans-Serif\" font-size=\"14.00\">class = House</text>\n",
       "</g>\n",
       "<!-- 0&#45;&gt;1 -->\n",
       "<g id=\"edge1\" class=\"edge\">\n",
       "<title>0&#45;&gt;1</title>\n",
       "<path fill=\"none\" stroke=\"black\" d=\"M378.7,-579.91C372.39,-571.01 365.65,-561.51 359.14,-552.33\"/>\n",
       "<polygon fill=\"black\" stroke=\"black\" points=\"361.89,-550.15 353.25,-544.02 356.18,-554.2 361.89,-550.15\"/>\n",
       "<text text-anchor=\"middle\" x=\"349.06\" y=\"-564.97\" font-family=\"Helvetica,sans-Serif\" font-size=\"14.00\">True</text>\n",
       "</g>\n",
       "<!-- 10 -->\n",
       "<g id=\"node11\" class=\"node\">\n",
       "<title>10</title>\n",
       "<path fill=\"#fbeade\" stroke=\"black\" d=\"M552.5,-544C552.5,-544 430.5,-544 430.5,-544 424.5,-544 418.5,-538 418.5,-532 418.5,-532 418.5,-473 418.5,-473 418.5,-467 424.5,-461 430.5,-461 430.5,-461 552.5,-461 552.5,-461 558.5,-461 564.5,-467 564.5,-473 564.5,-473 564.5,-532 564.5,-532 564.5,-538 558.5,-544 552.5,-544\"/>\n",
       "<text text-anchor=\"start\" x=\"428\" y=\"-528.8\" font-family=\"Helvetica,sans-Serif\" font-size=\"14.00\">Local Price ≤ 4.55</text>\n",
       "<text text-anchor=\"start\" x=\"452\" y=\"-513.8\" font-family=\"Helvetica,sans-Serif\" font-size=\"14.00\">gini = 0.58</text>\n",
       "<text text-anchor=\"start\" x=\"443\" y=\"-498.8\" font-family=\"Helvetica,sans-Serif\" font-size=\"14.00\">samples = 10</text>\n",
       "<text text-anchor=\"start\" x=\"434\" y=\"-483.8\" font-family=\"Helvetica,sans-Serif\" font-size=\"14.00\">value = [5, 4, 1]</text>\n",
       "<text text-anchor=\"start\" x=\"426.5\" y=\"-468.8\" font-family=\"Helvetica,sans-Serif\" font-size=\"14.00\">class = Apartment</text>\n",
       "</g>\n",
       "<!-- 0&#45;&gt;10 -->\n",
       "<g id=\"edge10\" class=\"edge\">\n",
       "<title>0&#45;&gt;10</title>\n",
       "<path fill=\"none\" stroke=\"black\" d=\"M436.64,-579.91C443.03,-571.01 449.85,-561.51 456.44,-552.33\"/>\n",
       "<polygon fill=\"black\" stroke=\"black\" points=\"459.42,-554.19 462.41,-544.02 453.73,-550.1 459.42,-554.19\"/>\n",
       "<text text-anchor=\"middle\" x=\"466.46\" y=\"-564.99\" font-family=\"Helvetica,sans-Serif\" font-size=\"14.00\">False</text>\n",
       "</g>\n",
       "<!-- 2 -->\n",
       "<g id=\"node3\" class=\"node\">\n",
       "<title>2</title>\n",
       "<path fill=\"#ab7bee\" stroke=\"black\" d=\"M224.5,-425C224.5,-425 90.5,-425 90.5,-425 84.5,-425 78.5,-419 78.5,-413 78.5,-413 78.5,-354 78.5,-354 78.5,-348 84.5,-342 90.5,-342 90.5,-342 224.5,-342 224.5,-342 230.5,-342 236.5,-348 236.5,-354 236.5,-354 236.5,-413 236.5,-413 236.5,-419 230.5,-425 224.5,-425\"/>\n",
       "<text text-anchor=\"start\" x=\"86.5\" y=\"-409.8\" font-family=\"Helvetica,sans-Serif\" font-size=\"14.00\">Age of home ≤ 19.5</text>\n",
       "<text text-anchor=\"start\" x=\"113.5\" y=\"-394.8\" font-family=\"Helvetica,sans-Serif\" font-size=\"14.00\">gini = 0.375</text>\n",
       "<text text-anchor=\"start\" x=\"113.5\" y=\"-379.8\" font-family=\"Helvetica,sans-Serif\" font-size=\"14.00\">samples = 8</text>\n",
       "<text text-anchor=\"start\" x=\"100\" y=\"-364.8\" font-family=\"Helvetica,sans-Serif\" font-size=\"14.00\">value = [0, 2, 6]</text>\n",
       "<text text-anchor=\"start\" x=\"107.5\" y=\"-349.8\" font-family=\"Helvetica,sans-Serif\" font-size=\"14.00\">class = House</text>\n",
       "</g>\n",
       "<!-- 1&#45;&gt;2 -->\n",
       "<g id=\"edge2\" class=\"edge\">\n",
       "<title>1&#45;&gt;2</title>\n",
       "<path fill=\"none\" stroke=\"black\" d=\"M266.56,-460.91C252.7,-451.2 237.8,-440.76 223.6,-430.81\"/>\n",
       "<polygon fill=\"black\" stroke=\"black\" points=\"225.54,-427.89 215.34,-425.02 221.52,-433.63 225.54,-427.89\"/>\n",
       "</g>\n",
       "<!-- 9 -->\n",
       "<g id=\"node10\" class=\"node\">\n",
       "<title>9</title>\n",
       "<path fill=\"#e58139\" stroke=\"black\" d=\"M388.5,-417.5C388.5,-417.5 266.5,-417.5 266.5,-417.5 260.5,-417.5 254.5,-411.5 254.5,-405.5 254.5,-405.5 254.5,-361.5 254.5,-361.5 254.5,-355.5 260.5,-349.5 266.5,-349.5 266.5,-349.5 388.5,-349.5 388.5,-349.5 394.5,-349.5 400.5,-355.5 400.5,-361.5 400.5,-361.5 400.5,-405.5 400.5,-405.5 400.5,-411.5 394.5,-417.5 388.5,-417.5\"/>\n",
       "<text text-anchor=\"start\" x=\"292.5\" y=\"-402.3\" font-family=\"Helvetica,sans-Serif\" font-size=\"14.00\">gini = 0.0</text>\n",
       "<text text-anchor=\"start\" x=\"283.5\" y=\"-387.3\" font-family=\"Helvetica,sans-Serif\" font-size=\"14.00\">samples = 2</text>\n",
       "<text text-anchor=\"start\" x=\"270\" y=\"-372.3\" font-family=\"Helvetica,sans-Serif\" font-size=\"14.00\">value = [2, 0, 0]</text>\n",
       "<text text-anchor=\"start\" x=\"262.5\" y=\"-357.3\" font-family=\"Helvetica,sans-Serif\" font-size=\"14.00\">class = Apartment</text>\n",
       "</g>\n",
       "<!-- 1&#45;&gt;9 -->\n",
       "<g id=\"edge9\" class=\"edge\">\n",
       "<title>1&#45;&gt;9</title>\n",
       "<path fill=\"none\" stroke=\"black\" d=\"M325.54,-460.91C325.82,-450.2 326.11,-438.62 326.39,-427.78\"/>\n",
       "<polygon fill=\"black\" stroke=\"black\" points=\"329.89,-427.75 326.65,-417.67 322.89,-427.57 329.89,-427.75\"/>\n",
       "</g>\n",
       "<!-- 3 -->\n",
       "<g id=\"node4\" class=\"node\">\n",
       "<title>3</title>\n",
       "<path fill=\"#39e581\" stroke=\"black\" d=\"M132,-298.5C132,-298.5 25,-298.5 25,-298.5 19,-298.5 13,-292.5 13,-286.5 13,-286.5 13,-242.5 13,-242.5 13,-236.5 19,-230.5 25,-230.5 25,-230.5 132,-230.5 132,-230.5 138,-230.5 144,-236.5 144,-242.5 144,-242.5 144,-286.5 144,-286.5 144,-292.5 138,-298.5 132,-298.5\"/>\n",
       "<text text-anchor=\"start\" x=\"43.5\" y=\"-283.3\" font-family=\"Helvetica,sans-Serif\" font-size=\"14.00\">gini = 0.0</text>\n",
       "<text text-anchor=\"start\" x=\"34.5\" y=\"-268.3\" font-family=\"Helvetica,sans-Serif\" font-size=\"14.00\">samples = 1</text>\n",
       "<text text-anchor=\"start\" x=\"21\" y=\"-253.3\" font-family=\"Helvetica,sans-Serif\" font-size=\"14.00\">value = [0, 1, 0]</text>\n",
       "<text text-anchor=\"start\" x=\"28.5\" y=\"-238.3\" font-family=\"Helvetica,sans-Serif\" font-size=\"14.00\">class = Condo</text>\n",
       "</g>\n",
       "<!-- 2&#45;&gt;3 -->\n",
       "<g id=\"edge3\" class=\"edge\">\n",
       "<title>2&#45;&gt;3</title>\n",
       "<path fill=\"none\" stroke=\"black\" d=\"M130.09,-341.91C122.49,-330.65 114.23,-318.42 106.59,-307.11\"/>\n",
       "<polygon fill=\"black\" stroke=\"black\" points=\"109.39,-305 100.89,-298.67 103.59,-308.91 109.39,-305\"/>\n",
       "</g>\n",
       "<!-- 4 -->\n",
       "<g id=\"node5\" class=\"node\">\n",
       "<title>4</title>\n",
       "<path fill=\"#965ae9\" stroke=\"black\" d=\"M304.5,-306C304.5,-306 174.5,-306 174.5,-306 168.5,-306 162.5,-300 162.5,-294 162.5,-294 162.5,-235 162.5,-235 162.5,-229 168.5,-223 174.5,-223 174.5,-223 304.5,-223 304.5,-223 310.5,-223 316.5,-229 316.5,-235 316.5,-235 316.5,-294 316.5,-294 316.5,-300 310.5,-306 304.5,-306\"/>\n",
       "<text text-anchor=\"start\" x=\"170.5\" y=\"-290.8\" font-family=\"Helvetica,sans-Serif\" font-size=\"14.00\">Living area ≤ 1.173</text>\n",
       "<text text-anchor=\"start\" x=\"195.5\" y=\"-275.8\" font-family=\"Helvetica,sans-Serif\" font-size=\"14.00\">gini = 0.245</text>\n",
       "<text text-anchor=\"start\" x=\"195.5\" y=\"-260.8\" font-family=\"Helvetica,sans-Serif\" font-size=\"14.00\">samples = 7</text>\n",
       "<text text-anchor=\"start\" x=\"182\" y=\"-245.8\" font-family=\"Helvetica,sans-Serif\" font-size=\"14.00\">value = [0, 1, 6]</text>\n",
       "<text text-anchor=\"start\" x=\"189.5\" y=\"-230.8\" font-family=\"Helvetica,sans-Serif\" font-size=\"14.00\">class = House</text>\n",
       "</g>\n",
       "<!-- 2&#45;&gt;4 -->\n",
       "<g id=\"edge4\" class=\"edge\">\n",
       "<title>2&#45;&gt;4</title>\n",
       "<path fill=\"none\" stroke=\"black\" d=\"M185.95,-341.91C192.18,-333.01 198.84,-323.51 205.28,-314.33\"/>\n",
       "<polygon fill=\"black\" stroke=\"black\" points=\"208.23,-316.22 211.1,-306.02 202.5,-312.2 208.23,-316.22\"/>\n",
       "</g>\n",
       "<!-- 5 -->\n",
       "<g id=\"node6\" class=\"node\">\n",
       "<title>5</title>\n",
       "<path fill=\"#ffffff\" stroke=\"black\" d=\"M206.5,-187C206.5,-187 72.5,-187 72.5,-187 66.5,-187 60.5,-181 60.5,-175 60.5,-175 60.5,-116 60.5,-116 60.5,-110 66.5,-104 72.5,-104 72.5,-104 206.5,-104 206.5,-104 212.5,-104 218.5,-110 218.5,-116 218.5,-116 218.5,-175 218.5,-175 218.5,-181 212.5,-187 206.5,-187\"/>\n",
       "<text text-anchor=\"start\" x=\"68.5\" y=\"-171.8\" font-family=\"Helvetica,sans-Serif\" font-size=\"14.00\">Age of home ≤ 31.0</text>\n",
       "<text text-anchor=\"start\" x=\"104.5\" y=\"-156.8\" font-family=\"Helvetica,sans-Serif\" font-size=\"14.00\">gini = 0.5</text>\n",
       "<text text-anchor=\"start\" x=\"95.5\" y=\"-141.8\" font-family=\"Helvetica,sans-Serif\" font-size=\"14.00\">samples = 2</text>\n",
       "<text text-anchor=\"start\" x=\"82\" y=\"-126.8\" font-family=\"Helvetica,sans-Serif\" font-size=\"14.00\">value = [0, 1, 1]</text>\n",
       "<text text-anchor=\"start\" x=\"89.5\" y=\"-111.8\" font-family=\"Helvetica,sans-Serif\" font-size=\"14.00\">class = Condo</text>\n",
       "</g>\n",
       "<!-- 4&#45;&gt;5 -->\n",
       "<g id=\"edge5\" class=\"edge\">\n",
       "<title>4&#45;&gt;5</title>\n",
       "<path fill=\"none\" stroke=\"black\" d=\"M204.81,-222.91C197.05,-213.83 188.75,-204.12 180.76,-194.77\"/>\n",
       "<polygon fill=\"black\" stroke=\"black\" points=\"183.29,-192.35 174.13,-187.02 177.97,-196.9 183.29,-192.35\"/>\n",
       "</g>\n",
       "<!-- 8 -->\n",
       "<g id=\"node9\" class=\"node\">\n",
       "<title>8</title>\n",
       "<path fill=\"#8139e5\" stroke=\"black\" d=\"M356,-179.5C356,-179.5 249,-179.5 249,-179.5 243,-179.5 237,-173.5 237,-167.5 237,-167.5 237,-123.5 237,-123.5 237,-117.5 243,-111.5 249,-111.5 249,-111.5 356,-111.5 356,-111.5 362,-111.5 368,-117.5 368,-123.5 368,-123.5 368,-167.5 368,-167.5 368,-173.5 362,-179.5 356,-179.5\"/>\n",
       "<text text-anchor=\"start\" x=\"267.5\" y=\"-164.3\" font-family=\"Helvetica,sans-Serif\" font-size=\"14.00\">gini = 0.0</text>\n",
       "<text text-anchor=\"start\" x=\"258.5\" y=\"-149.3\" font-family=\"Helvetica,sans-Serif\" font-size=\"14.00\">samples = 5</text>\n",
       "<text text-anchor=\"start\" x=\"245\" y=\"-134.3\" font-family=\"Helvetica,sans-Serif\" font-size=\"14.00\">value = [0, 0, 5]</text>\n",
       "<text text-anchor=\"start\" x=\"252.5\" y=\"-119.3\" font-family=\"Helvetica,sans-Serif\" font-size=\"14.00\">class = House</text>\n",
       "</g>\n",
       "<!-- 4&#45;&gt;8 -->\n",
       "<g id=\"edge8\" class=\"edge\">\n",
       "<title>4&#45;&gt;8</title>\n",
       "<path fill=\"none\" stroke=\"black\" d=\"M261.36,-222.91C267.3,-211.87 273.75,-199.9 279.74,-188.77\"/>\n",
       "<polygon fill=\"black\" stroke=\"black\" points=\"282.98,-190.13 284.64,-179.67 276.82,-186.81 282.98,-190.13\"/>\n",
       "</g>\n",
       "<!-- 6 -->\n",
       "<g id=\"node7\" class=\"node\">\n",
       "<title>6</title>\n",
       "<path fill=\"#8139e5\" stroke=\"black\" d=\"M119,-68C119,-68 12,-68 12,-68 6,-68 0,-62 0,-56 0,-56 0,-12 0,-12 0,-6 6,0 12,0 12,0 119,0 119,0 125,0 131,-6 131,-12 131,-12 131,-56 131,-56 131,-62 125,-68 119,-68\"/>\n",
       "<text text-anchor=\"start\" x=\"30.5\" y=\"-52.8\" font-family=\"Helvetica,sans-Serif\" font-size=\"14.00\">gini = 0.0</text>\n",
       "<text text-anchor=\"start\" x=\"21.5\" y=\"-37.8\" font-family=\"Helvetica,sans-Serif\" font-size=\"14.00\">samples = 1</text>\n",
       "<text text-anchor=\"start\" x=\"8\" y=\"-22.8\" font-family=\"Helvetica,sans-Serif\" font-size=\"14.00\">value = [0, 0, 1]</text>\n",
       "<text text-anchor=\"start\" x=\"15.5\" y=\"-7.8\" font-family=\"Helvetica,sans-Serif\" font-size=\"14.00\">class = House</text>\n",
       "</g>\n",
       "<!-- 5&#45;&gt;6 -->\n",
       "<g id=\"edge6\" class=\"edge\">\n",
       "<title>5&#45;&gt;6</title>\n",
       "<path fill=\"none\" stroke=\"black\" d=\"M111.95,-103.73C105.97,-94.88 99.63,-85.51 93.63,-76.63\"/>\n",
       "<polygon fill=\"black\" stroke=\"black\" points=\"96.5,-74.63 88,-68.3 90.7,-78.54 96.5,-74.63\"/>\n",
       "</g>\n",
       "<!-- 7 -->\n",
       "<g id=\"node8\" class=\"node\">\n",
       "<title>7</title>\n",
       "<path fill=\"#39e581\" stroke=\"black\" d=\"M268,-68C268,-68 161,-68 161,-68 155,-68 149,-62 149,-56 149,-56 149,-12 149,-12 149,-6 155,0 161,0 161,0 268,0 268,0 274,0 280,-6 280,-12 280,-12 280,-56 280,-56 280,-62 274,-68 268,-68\"/>\n",
       "<text text-anchor=\"start\" x=\"179.5\" y=\"-52.8\" font-family=\"Helvetica,sans-Serif\" font-size=\"14.00\">gini = 0.0</text>\n",
       "<text text-anchor=\"start\" x=\"170.5\" y=\"-37.8\" font-family=\"Helvetica,sans-Serif\" font-size=\"14.00\">samples = 1</text>\n",
       "<text text-anchor=\"start\" x=\"157\" y=\"-22.8\" font-family=\"Helvetica,sans-Serif\" font-size=\"14.00\">value = [0, 1, 0]</text>\n",
       "<text text-anchor=\"start\" x=\"164.5\" y=\"-7.8\" font-family=\"Helvetica,sans-Serif\" font-size=\"14.00\">class = Condo</text>\n",
       "</g>\n",
       "<!-- 5&#45;&gt;7 -->\n",
       "<g id=\"edge7\" class=\"edge\">\n",
       "<title>5&#45;&gt;7</title>\n",
       "<path fill=\"none\" stroke=\"black\" d=\"M167.43,-103.73C173.49,-94.88 179.9,-85.51 185.99,-76.63\"/>\n",
       "<polygon fill=\"black\" stroke=\"black\" points=\"188.93,-78.53 191.69,-68.3 183.15,-74.57 188.93,-78.53\"/>\n",
       "</g>\n",
       "<!-- 11 -->\n",
       "<g id=\"node12\" class=\"node\">\n",
       "<title>11</title>\n",
       "<path fill=\"#39e581\" stroke=\"black\" d=\"M543,-417.5C543,-417.5 436,-417.5 436,-417.5 430,-417.5 424,-411.5 424,-405.5 424,-405.5 424,-361.5 424,-361.5 424,-355.5 430,-349.5 436,-349.5 436,-349.5 543,-349.5 543,-349.5 549,-349.5 555,-355.5 555,-361.5 555,-361.5 555,-405.5 555,-405.5 555,-411.5 549,-417.5 543,-417.5\"/>\n",
       "<text text-anchor=\"start\" x=\"454.5\" y=\"-402.3\" font-family=\"Helvetica,sans-Serif\" font-size=\"14.00\">gini = 0.0</text>\n",
       "<text text-anchor=\"start\" x=\"445.5\" y=\"-387.3\" font-family=\"Helvetica,sans-Serif\" font-size=\"14.00\">samples = 2</text>\n",
       "<text text-anchor=\"start\" x=\"432\" y=\"-372.3\" font-family=\"Helvetica,sans-Serif\" font-size=\"14.00\">value = [0, 2, 0]</text>\n",
       "<text text-anchor=\"start\" x=\"439.5\" y=\"-357.3\" font-family=\"Helvetica,sans-Serif\" font-size=\"14.00\">class = Condo</text>\n",
       "</g>\n",
       "<!-- 10&#45;&gt;11 -->\n",
       "<g id=\"edge11\" class=\"edge\">\n",
       "<title>10&#45;&gt;11</title>\n",
       "<path fill=\"none\" stroke=\"black\" d=\"M490.81,-460.91C490.62,-450.2 490.43,-438.62 490.24,-427.78\"/>\n",
       "<polygon fill=\"black\" stroke=\"black\" points=\"493.74,-427.61 490.07,-417.67 486.74,-427.73 493.74,-427.61\"/>\n",
       "</g>\n",
       "<!-- 12 -->\n",
       "<g id=\"node13\" class=\"node\">\n",
       "<title>12</title>\n",
       "<path fill=\"#f2c09c\" stroke=\"black\" d=\"M707.5,-425C707.5,-425 585.5,-425 585.5,-425 579.5,-425 573.5,-419 573.5,-413 573.5,-413 573.5,-354 573.5,-354 573.5,-348 579.5,-342 585.5,-342 585.5,-342 707.5,-342 707.5,-342 713.5,-342 719.5,-348 719.5,-354 719.5,-354 719.5,-413 719.5,-413 719.5,-419 713.5,-425 707.5,-425\"/>\n",
       "<text text-anchor=\"start\" x=\"589.5\" y=\"-409.8\" font-family=\"Helvetica,sans-Serif\" font-size=\"14.00\">Land Area ≤ 5.5</text>\n",
       "<text text-anchor=\"start\" x=\"602.5\" y=\"-394.8\" font-family=\"Helvetica,sans-Serif\" font-size=\"14.00\">gini = 0.531</text>\n",
       "<text text-anchor=\"start\" x=\"602.5\" y=\"-379.8\" font-family=\"Helvetica,sans-Serif\" font-size=\"14.00\">samples = 8</text>\n",
       "<text text-anchor=\"start\" x=\"589\" y=\"-364.8\" font-family=\"Helvetica,sans-Serif\" font-size=\"14.00\">value = [5, 2, 1]</text>\n",
       "<text text-anchor=\"start\" x=\"581.5\" y=\"-349.8\" font-family=\"Helvetica,sans-Serif\" font-size=\"14.00\">class = Apartment</text>\n",
       "</g>\n",
       "<!-- 10&#45;&gt;12 -->\n",
       "<g id=\"edge12\" class=\"edge\">\n",
       "<title>10&#45;&gt;12</title>\n",
       "<path fill=\"none\" stroke=\"black\" d=\"M545.28,-460.91C558.02,-451.29 571.71,-440.95 584.78,-431.09\"/>\n",
       "<polygon fill=\"black\" stroke=\"black\" points=\"586.95,-433.84 592.82,-425.02 582.73,-428.25 586.95,-433.84\"/>\n",
       "</g>\n",
       "<!-- 13 -->\n",
       "<g id=\"node14\" class=\"node\">\n",
       "<title>13</title>\n",
       "<path fill=\"#ea9a61\" stroke=\"black\" d=\"M650.5,-306C650.5,-306 516.5,-306 516.5,-306 510.5,-306 504.5,-300 504.5,-294 504.5,-294 504.5,-235 504.5,-235 504.5,-229 510.5,-223 516.5,-223 516.5,-223 650.5,-223 650.5,-223 656.5,-223 662.5,-229 662.5,-235 662.5,-235 662.5,-294 662.5,-294 662.5,-300 656.5,-306 650.5,-306\"/>\n",
       "<text text-anchor=\"start\" x=\"512.5\" y=\"-290.8\" font-family=\"Helvetica,sans-Serif\" font-size=\"14.00\">Age of home ≤ 58.0</text>\n",
       "<text text-anchor=\"start\" x=\"539.5\" y=\"-275.8\" font-family=\"Helvetica,sans-Serif\" font-size=\"14.00\">gini = 0.278</text>\n",
       "<text text-anchor=\"start\" x=\"539.5\" y=\"-260.8\" font-family=\"Helvetica,sans-Serif\" font-size=\"14.00\">samples = 6</text>\n",
       "<text text-anchor=\"start\" x=\"526\" y=\"-245.8\" font-family=\"Helvetica,sans-Serif\" font-size=\"14.00\">value = [5, 0, 1]</text>\n",
       "<text text-anchor=\"start\" x=\"518.5\" y=\"-230.8\" font-family=\"Helvetica,sans-Serif\" font-size=\"14.00\">class = Apartment</text>\n",
       "</g>\n",
       "<!-- 12&#45;&gt;13 -->\n",
       "<g id=\"edge13\" class=\"edge\">\n",
       "<title>12&#45;&gt;13</title>\n",
       "<path fill=\"none\" stroke=\"black\" d=\"M624.64,-341.91C619.95,-333.2 614.94,-323.9 610.1,-314.89\"/>\n",
       "<polygon fill=\"black\" stroke=\"black\" points=\"613.14,-313.17 605.32,-306.02 606.98,-316.48 613.14,-313.17\"/>\n",
       "</g>\n",
       "<!-- 16 -->\n",
       "<g id=\"node17\" class=\"node\">\n",
       "<title>16</title>\n",
       "<path fill=\"#39e581\" stroke=\"black\" d=\"M800,-298.5C800,-298.5 693,-298.5 693,-298.5 687,-298.5 681,-292.5 681,-286.5 681,-286.5 681,-242.5 681,-242.5 681,-236.5 687,-230.5 693,-230.5 693,-230.5 800,-230.5 800,-230.5 806,-230.5 812,-236.5 812,-242.5 812,-242.5 812,-286.5 812,-286.5 812,-292.5 806,-298.5 800,-298.5\"/>\n",
       "<text text-anchor=\"start\" x=\"711.5\" y=\"-283.3\" font-family=\"Helvetica,sans-Serif\" font-size=\"14.00\">gini = 0.0</text>\n",
       "<text text-anchor=\"start\" x=\"702.5\" y=\"-268.3\" font-family=\"Helvetica,sans-Serif\" font-size=\"14.00\">samples = 2</text>\n",
       "<text text-anchor=\"start\" x=\"689\" y=\"-253.3\" font-family=\"Helvetica,sans-Serif\" font-size=\"14.00\">value = [0, 2, 0]</text>\n",
       "<text text-anchor=\"start\" x=\"696.5\" y=\"-238.3\" font-family=\"Helvetica,sans-Serif\" font-size=\"14.00\">class = Condo</text>\n",
       "</g>\n",
       "<!-- 12&#45;&gt;16 -->\n",
       "<g id=\"edge16\" class=\"edge\">\n",
       "<title>12&#45;&gt;16</title>\n",
       "<path fill=\"none\" stroke=\"black\" d=\"M681.19,-341.91C691,-330.43 701.68,-317.94 711.51,-306.44\"/>\n",
       "<polygon fill=\"black\" stroke=\"black\" points=\"714.32,-308.54 718.15,-298.67 708.99,-303.99 714.32,-308.54\"/>\n",
       "</g>\n",
       "<!-- 14 -->\n",
       "<g id=\"node15\" class=\"node\">\n",
       "<title>14</title>\n",
       "<path fill=\"#e58139\" stroke=\"black\" d=\"M524.5,-179.5C524.5,-179.5 402.5,-179.5 402.5,-179.5 396.5,-179.5 390.5,-173.5 390.5,-167.5 390.5,-167.5 390.5,-123.5 390.5,-123.5 390.5,-117.5 396.5,-111.5 402.5,-111.5 402.5,-111.5 524.5,-111.5 524.5,-111.5 530.5,-111.5 536.5,-117.5 536.5,-123.5 536.5,-123.5 536.5,-167.5 536.5,-167.5 536.5,-173.5 530.5,-179.5 524.5,-179.5\"/>\n",
       "<text text-anchor=\"start\" x=\"428.5\" y=\"-164.3\" font-family=\"Helvetica,sans-Serif\" font-size=\"14.00\">gini = 0.0</text>\n",
       "<text text-anchor=\"start\" x=\"419.5\" y=\"-149.3\" font-family=\"Helvetica,sans-Serif\" font-size=\"14.00\">samples = 5</text>\n",
       "<text text-anchor=\"start\" x=\"406\" y=\"-134.3\" font-family=\"Helvetica,sans-Serif\" font-size=\"14.00\">value = [5, 0, 0]</text>\n",
       "<text text-anchor=\"start\" x=\"398.5\" y=\"-119.3\" font-family=\"Helvetica,sans-Serif\" font-size=\"14.00\">class = Apartment</text>\n",
       "</g>\n",
       "<!-- 13&#45;&gt;14 -->\n",
       "<g id=\"edge14\" class=\"edge\">\n",
       "<title>13&#45;&gt;14</title>\n",
       "<path fill=\"none\" stroke=\"black\" d=\"M541.87,-222.91C529.87,-211.21 516.79,-198.46 504.81,-186.78\"/>\n",
       "<polygon fill=\"black\" stroke=\"black\" points=\"507.12,-184.14 497.52,-179.67 502.23,-189.15 507.12,-184.14\"/>\n",
       "</g>\n",
       "<!-- 15 -->\n",
       "<g id=\"node16\" class=\"node\">\n",
       "<title>15</title>\n",
       "<path fill=\"#8139e5\" stroke=\"black\" d=\"M674,-179.5C674,-179.5 567,-179.5 567,-179.5 561,-179.5 555,-173.5 555,-167.5 555,-167.5 555,-123.5 555,-123.5 555,-117.5 561,-111.5 567,-111.5 567,-111.5 674,-111.5 674,-111.5 680,-111.5 686,-117.5 686,-123.5 686,-123.5 686,-167.5 686,-167.5 686,-173.5 680,-179.5 674,-179.5\"/>\n",
       "<text text-anchor=\"start\" x=\"585.5\" y=\"-164.3\" font-family=\"Helvetica,sans-Serif\" font-size=\"14.00\">gini = 0.0</text>\n",
       "<text text-anchor=\"start\" x=\"576.5\" y=\"-149.3\" font-family=\"Helvetica,sans-Serif\" font-size=\"14.00\">samples = 1</text>\n",
       "<text text-anchor=\"start\" x=\"563\" y=\"-134.3\" font-family=\"Helvetica,sans-Serif\" font-size=\"14.00\">value = [0, 0, 1]</text>\n",
       "<text text-anchor=\"start\" x=\"570.5\" y=\"-119.3\" font-family=\"Helvetica,sans-Serif\" font-size=\"14.00\">class = House</text>\n",
       "</g>\n",
       "<!-- 13&#45;&gt;15 -->\n",
       "<g id=\"edge15\" class=\"edge\">\n",
       "<title>13&#45;&gt;15</title>\n",
       "<path fill=\"none\" stroke=\"black\" d=\"M596.34,-222.91C599.76,-212.09 603.46,-200.38 606.92,-189.44\"/>\n",
       "<polygon fill=\"black\" stroke=\"black\" points=\"610.33,-190.26 610.01,-179.67 603.66,-188.15 610.33,-190.26\"/>\n",
       "</g>\n",
       "</g>\n",
       "</svg>\n"
      ],
      "text/plain": [
       "<graphviz.sources.Source at 0x7f9f37155e50>"
      ]
     },
     "execution_count": 19,
     "metadata": {},
     "output_type": "execute_result"
    }
   ],
   "source": [
    "dot_data = tree.export_graphviz(clf, out_file=None, feature_names=features, class_names=classes,  filled=True, rounded=True,  special_characters=True)  \n",
    "graph = graphviz.Source(dot_data)  \n",
    "graph"
   ]
  },
  {
   "cell_type": "code",
   "execution_count": 20,
   "metadata": {},
   "outputs": [
    {
     "name": "stdout",
     "output_type": "stream",
     "text": [
      "Given labels in training data:  ['Apartment' 'House' 'Condo' 'Apartment' 'Apartment' 'Condo' 'Condo'\n",
      " 'House' 'Condo' 'Apartment' 'House' 'House' 'House' 'Condo' 'Apartment'\n",
      " 'House' 'Apartment' 'House' 'Condo' 'Apartment']\n",
      "Predicted labels:           ['Apartment' 'House' 'Condo' 'Apartment' 'Apartment' 'Condo' 'Condo'\n",
      " 'House' 'Condo' 'Apartment' 'House' 'House' 'House' 'Condo' 'Apartment'\n",
      " 'House' 'Apartment' 'House' 'Condo' 'Apartment']\n",
      "Test accuracy (%): 100.0\n"
     ]
    }
   ],
   "source": [
    "#Test on training data\n",
    "y_trn_predicted = clf.predict(x_train)\n",
    "\n",
    "print(\"Given labels in training data: \", y_train)\n",
    "print(\"Predicted labels:          \", y_trn_predicted)\n",
    "\n",
    "print(\"Test accuracy (%):\",metrics.accuracy_score(y_train, y_trn_predicted)*100)"
   ]
  },
  {
   "cell_type": "code",
   "execution_count": 21,
   "metadata": {},
   "outputs": [
    {
     "name": "stdout",
     "output_type": "stream",
     "text": [
      "Given labels in test data:  ['Apartment' 'House' 'House' 'Apartment' 'Apartment']\n",
      "Predicted labels:           ['Condo' 'Condo' 'Condo' 'Apartment' 'Apartment']\n",
      "Test accuracy (%): 40.0\n"
     ]
    }
   ],
   "source": [
    "#Test on test data\n",
    "y_test_predicted = clf.predict(x_test)\n",
    "\n",
    "print(\"Given labels in test data: \", y_test)\n",
    "print(\"Predicted labels:          \", y_test_predicted)\n",
    "\n",
    "print(\"Test accuracy (%):\",metrics.accuracy_score(y_test, y_test_predicted)*100)"
   ]
  },
  {
   "cell_type": "code",
   "execution_count": 22,
   "metadata": {},
   "outputs": [
    {
     "data": {
      "image/svg+xml": [
       "<?xml version=\"1.0\" encoding=\"UTF-8\" standalone=\"no\"?>\n",
       "<!DOCTYPE svg PUBLIC \"-//W3C//DTD SVG 1.1//EN\"\n",
       " \"http://www.w3.org/Graphics/SVG/1.1/DTD/svg11.dtd\">\n",
       "<!-- Generated by graphviz version 2.43.0 (0)\n",
       " -->\n",
       "<!-- Title: Tree Pages: 1 -->\n",
       "<svg width=\"618pt\" height=\"314pt\"\n",
       " viewBox=\"0.00 0.00 618.00 314.00\" xmlns=\"http://www.w3.org/2000/svg\" xmlns:xlink=\"http://www.w3.org/1999/xlink\">\n",
       "<g id=\"graph0\" class=\"graph\" transform=\"scale(1 1) rotate(0) translate(4 310)\">\n",
       "<title>Tree</title>\n",
       "<polygon fill=\"white\" stroke=\"transparent\" points=\"-4,4 -4,-310 614,-310 614,4 -4,4\"/>\n",
       "<!-- 0 -->\n",
       "<g id=\"node1\" class=\"node\">\n",
       "<title>0</title>\n",
       "<path fill=\"#ffffff\" stroke=\"black\" d=\"M371.5,-306C371.5,-306 237.5,-306 237.5,-306 231.5,-306 225.5,-300 225.5,-294 225.5,-294 225.5,-235 225.5,-235 225.5,-229 231.5,-223 237.5,-223 237.5,-223 371.5,-223 371.5,-223 377.5,-223 383.5,-229 383.5,-235 383.5,-235 383.5,-294 383.5,-294 383.5,-300 377.5,-306 371.5,-306\"/>\n",
       "<text text-anchor=\"start\" x=\"233.5\" y=\"-290.8\" font-family=\"Helvetica,sans-Serif\" font-size=\"14.00\">Age of home ≤ 36.0</text>\n",
       "<text text-anchor=\"start\" x=\"260.5\" y=\"-275.8\" font-family=\"Helvetica,sans-Serif\" font-size=\"14.00\">gini = 0.665</text>\n",
       "<text text-anchor=\"start\" x=\"256\" y=\"-260.8\" font-family=\"Helvetica,sans-Serif\" font-size=\"14.00\">samples = 20</text>\n",
       "<text text-anchor=\"start\" x=\"247\" y=\"-245.8\" font-family=\"Helvetica,sans-Serif\" font-size=\"14.00\">value = [7, 6, 7]</text>\n",
       "<text text-anchor=\"start\" x=\"239.5\" y=\"-230.8\" font-family=\"Helvetica,sans-Serif\" font-size=\"14.00\">class = Apartment</text>\n",
       "</g>\n",
       "<!-- 1 -->\n",
       "<g id=\"node2\" class=\"node\">\n",
       "<title>1</title>\n",
       "<path fill=\"#c09cf2\" stroke=\"black\" d=\"M285.5,-187C285.5,-187 157.5,-187 157.5,-187 151.5,-187 145.5,-181 145.5,-175 145.5,-175 145.5,-116 145.5,-116 145.5,-110 151.5,-104 157.5,-104 157.5,-104 285.5,-104 285.5,-104 291.5,-104 297.5,-110 297.5,-116 297.5,-116 297.5,-175 297.5,-175 297.5,-181 291.5,-187 285.5,-187\"/>\n",
       "<text text-anchor=\"start\" x=\"153.5\" y=\"-171.8\" font-family=\"Helvetica,sans-Serif\" font-size=\"14.00\">Local Price ≤ 8.411</text>\n",
       "<text text-anchor=\"start\" x=\"182\" y=\"-156.8\" font-family=\"Helvetica,sans-Serif\" font-size=\"14.00\">gini = 0.56</text>\n",
       "<text text-anchor=\"start\" x=\"173\" y=\"-141.8\" font-family=\"Helvetica,sans-Serif\" font-size=\"14.00\">samples = 10</text>\n",
       "<text text-anchor=\"start\" x=\"164\" y=\"-126.8\" font-family=\"Helvetica,sans-Serif\" font-size=\"14.00\">value = [2, 2, 6]</text>\n",
       "<text text-anchor=\"start\" x=\"171.5\" y=\"-111.8\" font-family=\"Helvetica,sans-Serif\" font-size=\"14.00\">class = House</text>\n",
       "</g>\n",
       "<!-- 0&#45;&gt;1 -->\n",
       "<g id=\"edge1\" class=\"edge\">\n",
       "<title>0&#45;&gt;1</title>\n",
       "<path fill=\"none\" stroke=\"black\" d=\"M275.7,-222.91C269.39,-214.01 262.65,-204.51 256.14,-195.33\"/>\n",
       "<polygon fill=\"black\" stroke=\"black\" points=\"258.89,-193.15 250.25,-187.02 253.18,-197.2 258.89,-193.15\"/>\n",
       "<text text-anchor=\"middle\" x=\"246.06\" y=\"-207.97\" font-family=\"Helvetica,sans-Serif\" font-size=\"14.00\">True</text>\n",
       "</g>\n",
       "<!-- 4 -->\n",
       "<g id=\"node5\" class=\"node\">\n",
       "<title>4</title>\n",
       "<path fill=\"#fbeade\" stroke=\"black\" d=\"M449.5,-187C449.5,-187 327.5,-187 327.5,-187 321.5,-187 315.5,-181 315.5,-175 315.5,-175 315.5,-116 315.5,-116 315.5,-110 321.5,-104 327.5,-104 327.5,-104 449.5,-104 449.5,-104 455.5,-104 461.5,-110 461.5,-116 461.5,-116 461.5,-175 461.5,-175 461.5,-181 455.5,-187 449.5,-187\"/>\n",
       "<text text-anchor=\"start\" x=\"331.5\" y=\"-171.8\" font-family=\"Helvetica,sans-Serif\" font-size=\"14.00\">Land Area ≤ 5.5</text>\n",
       "<text text-anchor=\"start\" x=\"349\" y=\"-156.8\" font-family=\"Helvetica,sans-Serif\" font-size=\"14.00\">gini = 0.58</text>\n",
       "<text text-anchor=\"start\" x=\"340\" y=\"-141.8\" font-family=\"Helvetica,sans-Serif\" font-size=\"14.00\">samples = 10</text>\n",
       "<text text-anchor=\"start\" x=\"331\" y=\"-126.8\" font-family=\"Helvetica,sans-Serif\" font-size=\"14.00\">value = [5, 4, 1]</text>\n",
       "<text text-anchor=\"start\" x=\"323.5\" y=\"-111.8\" font-family=\"Helvetica,sans-Serif\" font-size=\"14.00\">class = Apartment</text>\n",
       "</g>\n",
       "<!-- 0&#45;&gt;4 -->\n",
       "<g id=\"edge4\" class=\"edge\">\n",
       "<title>0&#45;&gt;4</title>\n",
       "<path fill=\"none\" stroke=\"black\" d=\"M333.64,-222.91C340.03,-214.01 346.85,-204.51 353.44,-195.33\"/>\n",
       "<polygon fill=\"black\" stroke=\"black\" points=\"356.42,-197.19 359.41,-187.02 350.73,-193.1 356.42,-197.19\"/>\n",
       "<text text-anchor=\"middle\" x=\"363.46\" y=\"-207.99\" font-family=\"Helvetica,sans-Serif\" font-size=\"14.00\">False</text>\n",
       "</g>\n",
       "<!-- 2 -->\n",
       "<g id=\"node3\" class=\"node\">\n",
       "<title>2</title>\n",
       "<path fill=\"#ab7bee\" stroke=\"black\" d=\"M119,-68C119,-68 12,-68 12,-68 6,-68 0,-62 0,-56 0,-56 0,-12 0,-12 0,-6 6,0 12,0 12,0 119,0 119,0 125,0 131,-6 131,-12 131,-12 131,-56 131,-56 131,-62 125,-68 119,-68\"/>\n",
       "<text text-anchor=\"start\" x=\"21.5\" y=\"-52.8\" font-family=\"Helvetica,sans-Serif\" font-size=\"14.00\">gini = 0.375</text>\n",
       "<text text-anchor=\"start\" x=\"21.5\" y=\"-37.8\" font-family=\"Helvetica,sans-Serif\" font-size=\"14.00\">samples = 8</text>\n",
       "<text text-anchor=\"start\" x=\"8\" y=\"-22.8\" font-family=\"Helvetica,sans-Serif\" font-size=\"14.00\">value = [0, 2, 6]</text>\n",
       "<text text-anchor=\"start\" x=\"15.5\" y=\"-7.8\" font-family=\"Helvetica,sans-Serif\" font-size=\"14.00\">class = House</text>\n",
       "</g>\n",
       "<!-- 1&#45;&gt;2 -->\n",
       "<g id=\"edge2\" class=\"edge\">\n",
       "<title>1&#45;&gt;2</title>\n",
       "<path fill=\"none\" stroke=\"black\" d=\"M163.41,-103.73C149.64,-94.06 134.98,-83.77 121.31,-74.17\"/>\n",
       "<polygon fill=\"black\" stroke=\"black\" points=\"123.14,-71.18 112.94,-68.3 119.11,-76.91 123.14,-71.18\"/>\n",
       "</g>\n",
       "<!-- 3 -->\n",
       "<g id=\"node4\" class=\"node\">\n",
       "<title>3</title>\n",
       "<path fill=\"#e58139\" stroke=\"black\" d=\"M283.5,-68C283.5,-68 161.5,-68 161.5,-68 155.5,-68 149.5,-62 149.5,-56 149.5,-56 149.5,-12 149.5,-12 149.5,-6 155.5,0 161.5,0 161.5,0 283.5,0 283.5,0 289.5,0 295.5,-6 295.5,-12 295.5,-12 295.5,-56 295.5,-56 295.5,-62 289.5,-68 283.5,-68\"/>\n",
       "<text text-anchor=\"start\" x=\"187.5\" y=\"-52.8\" font-family=\"Helvetica,sans-Serif\" font-size=\"14.00\">gini = 0.0</text>\n",
       "<text text-anchor=\"start\" x=\"178.5\" y=\"-37.8\" font-family=\"Helvetica,sans-Serif\" font-size=\"14.00\">samples = 2</text>\n",
       "<text text-anchor=\"start\" x=\"165\" y=\"-22.8\" font-family=\"Helvetica,sans-Serif\" font-size=\"14.00\">value = [2, 0, 0]</text>\n",
       "<text text-anchor=\"start\" x=\"157.5\" y=\"-7.8\" font-family=\"Helvetica,sans-Serif\" font-size=\"14.00\">class = Apartment</text>\n",
       "</g>\n",
       "<!-- 1&#45;&gt;3 -->\n",
       "<g id=\"edge3\" class=\"edge\">\n",
       "<title>1&#45;&gt;3</title>\n",
       "<path fill=\"none\" stroke=\"black\" d=\"M221.87,-103.73C221.95,-95.52 222.03,-86.86 222.1,-78.56\"/>\n",
       "<polygon fill=\"black\" stroke=\"black\" points=\"225.6,-78.33 222.2,-68.3 218.6,-78.27 225.6,-78.33\"/>\n",
       "</g>\n",
       "<!-- 5 -->\n",
       "<g id=\"node6\" class=\"node\">\n",
       "<title>5</title>\n",
       "<path fill=\"#f2c09c\" stroke=\"black\" d=\"M448.5,-68C448.5,-68 326.5,-68 326.5,-68 320.5,-68 314.5,-62 314.5,-56 314.5,-56 314.5,-12 314.5,-12 314.5,-6 320.5,0 326.5,0 326.5,0 448.5,0 448.5,0 454.5,0 460.5,-6 460.5,-12 460.5,-12 460.5,-56 460.5,-56 460.5,-62 454.5,-68 448.5,-68\"/>\n",
       "<text text-anchor=\"start\" x=\"343.5\" y=\"-52.8\" font-family=\"Helvetica,sans-Serif\" font-size=\"14.00\">gini = 0.531</text>\n",
       "<text text-anchor=\"start\" x=\"343.5\" y=\"-37.8\" font-family=\"Helvetica,sans-Serif\" font-size=\"14.00\">samples = 8</text>\n",
       "<text text-anchor=\"start\" x=\"330\" y=\"-22.8\" font-family=\"Helvetica,sans-Serif\" font-size=\"14.00\">value = [5, 2, 1]</text>\n",
       "<text text-anchor=\"start\" x=\"322.5\" y=\"-7.8\" font-family=\"Helvetica,sans-Serif\" font-size=\"14.00\">class = Apartment</text>\n",
       "</g>\n",
       "<!-- 4&#45;&gt;5 -->\n",
       "<g id=\"edge5\" class=\"edge\">\n",
       "<title>4&#45;&gt;5</title>\n",
       "<path fill=\"none\" stroke=\"black\" d=\"M388.13,-103.73C388.05,-95.52 387.97,-86.86 387.9,-78.56\"/>\n",
       "<polygon fill=\"black\" stroke=\"black\" points=\"391.4,-78.27 387.8,-68.3 384.4,-78.33 391.4,-78.27\"/>\n",
       "</g>\n",
       "<!-- 6 -->\n",
       "<g id=\"node7\" class=\"node\">\n",
       "<title>6</title>\n",
       "<path fill=\"#39e581\" stroke=\"black\" d=\"M598,-68C598,-68 491,-68 491,-68 485,-68 479,-62 479,-56 479,-56 479,-12 479,-12 479,-6 485,0 491,0 491,0 598,0 598,0 604,0 610,-6 610,-12 610,-12 610,-56 610,-56 610,-62 604,-68 598,-68\"/>\n",
       "<text text-anchor=\"start\" x=\"509.5\" y=\"-52.8\" font-family=\"Helvetica,sans-Serif\" font-size=\"14.00\">gini = 0.0</text>\n",
       "<text text-anchor=\"start\" x=\"500.5\" y=\"-37.8\" font-family=\"Helvetica,sans-Serif\" font-size=\"14.00\">samples = 2</text>\n",
       "<text text-anchor=\"start\" x=\"487\" y=\"-22.8\" font-family=\"Helvetica,sans-Serif\" font-size=\"14.00\">value = [0, 2, 0]</text>\n",
       "<text text-anchor=\"start\" x=\"494.5\" y=\"-7.8\" font-family=\"Helvetica,sans-Serif\" font-size=\"14.00\">class = Condo</text>\n",
       "</g>\n",
       "<!-- 4&#45;&gt;6 -->\n",
       "<g id=\"edge6\" class=\"edge\">\n",
       "<title>4&#45;&gt;6</title>\n",
       "<path fill=\"none\" stroke=\"black\" d=\"M446.59,-103.73C460.36,-94.06 475.02,-83.77 488.69,-74.17\"/>\n",
       "<polygon fill=\"black\" stroke=\"black\" points=\"490.89,-76.91 497.06,-68.3 486.86,-71.18 490.89,-76.91\"/>\n",
       "</g>\n",
       "</g>\n",
       "</svg>\n"
      ],
      "text/plain": [
       "<graphviz.sources.Source at 0x7f9f883c01f0>"
      ]
     },
     "execution_count": 22,
     "metadata": {},
     "output_type": "execute_result"
    }
   ],
   "source": [
    "#Limit the depth\n",
    "clf_limited_depth = tree.DecisionTreeClassifier(max_depth = 2)\n",
    "clf_limited_depth = clf_limited_depth.fit(x_train, y_train)\n",
    "dot_data_limited_depth = tree.export_graphviz(clf_limited_depth, out_file=None, feature_names=features, class_names=classes,  filled=True, rounded=True,  special_characters=True)  \n",
    "graph_limited_depth = graphviz.Source(dot_data_limited_depth)  \n",
    "graph_limited_depth"
   ]
  },
  {
   "cell_type": "code",
   "execution_count": 23,
   "metadata": {},
   "outputs": [
    {
     "name": "stdout",
     "output_type": "stream",
     "text": [
      "Given labels in training data:  ['Apartment' 'House' 'Condo' 'Apartment' 'Apartment' 'Condo' 'Condo'\n",
      " 'House' 'Condo' 'Apartment' 'House' 'House' 'House' 'Condo' 'Apartment'\n",
      " 'House' 'Apartment' 'House' 'Condo' 'Apartment']\n",
      "Predicted labels:           ['Apartment' 'Apartment' 'Apartment' 'Apartment' 'Apartment' 'Apartment'\n",
      " 'Condo' 'House' 'Condo' 'Apartment' 'House' 'House' 'House' 'House'\n",
      " 'Apartment' 'House' 'Apartment' 'House' 'House' 'Apartment']\n",
      "Test accuracy (%): 75.0\n",
      "Given labels in test data:  ['Apartment' 'House' 'House' 'Apartment' 'Apartment']\n",
      "Predicted labels:           ['Condo' 'Condo' 'House' 'Apartment' 'Apartment']\n",
      "Test accuracy (%): 60.0\n"
     ]
    }
   ],
   "source": [
    "#Test on training data\n",
    "y_trn_predicted = clf_limited_depth.predict(x_train)\n",
    "\n",
    "print(\"Given labels in training data: \", y_train)\n",
    "print(\"Predicted labels:          \", y_trn_predicted)\n",
    "\n",
    "print(\"Test accuracy (%):\",metrics.accuracy_score(y_train, y_trn_predicted)*100)\n",
    "\n",
    "#Test on test data\n",
    "y_test_predicted = clf_limited_depth.predict(x_test)\n",
    "\n",
    "print(\"Given labels in test data: \", y_test)\n",
    "print(\"Predicted labels:          \", y_test_predicted)\n",
    "\n",
    "print(\"Test accuracy (%):\",metrics.accuracy_score(y_test, y_test_predicted)*100)"
   ]
  },
  {
   "cell_type": "markdown",
   "metadata": {},
   "source": [
    "## Report"
   ]
  },
  {
   "cell_type": "markdown",
   "metadata": {},
   "source": [
    "1. Use the default parameters.\n",
    "\n",
    "    a. What is the accuracy on the training set?\n",
    "    \n",
    "    b. What is the accuracy on the test set?"
   ]
  },
  {
   "cell_type": "markdown",
   "metadata": {},
   "source": [
    "### Answer\n",
    "Using the default parameters the classifier becomes really overfit. The accuracy on the training data is 100% and the accuracy on the test data is 40%."
   ]
  },
  {
   "cell_type": "markdown",
   "metadata": {},
   "source": [
    "2. What is the effect of restricting the maximum depth of the tree? Try different depths and\n",
    "find the best value."
   ]
  },
  {
   "cell_type": "markdown",
   "metadata": {},
   "source": [
    "### Answer\n",
    "Restricting the depth reduces the train accuracy but improves the test accuracy. The maximum depth with the best accuracy was found to be at 2."
   ]
  },
  {
   "cell_type": "markdown",
   "metadata": {},
   "source": [
    "3. Why does restricting the depth have such a strong effect on the classifier performance?"
   ]
  },
  {
   "cell_type": "markdown",
   "metadata": {},
   "source": [
    "### Answer\n",
    "Larger the depth of the tree more are the chances of variance(overfitting). It reduces the complexity of the final classifier, and hence improves predictive accuracy by the reduction of overfitting. "
   ]
  },
  {
   "cell_type": "markdown",
   "metadata": {},
   "source": [
    "4. Visualize the resulting tree. Perform the inference on this tree manually (i.e. show/trace\n",
    "the path taken towards classification) and provide a classification for the following\n",
    "example:"
   ]
  },
  {
   "cell_type": "markdown",
   "metadata": {},
   "source": [
    "### Answer\n",
    "For the given data, test accuracy on the training data is 75% and on the test data is 60%."
   ]
  }
 ],
 "metadata": {
  "kernelspec": {
   "display_name": "Python 3 (ipykernel)",
   "language": "python",
   "name": "python3"
  },
  "language_info": {
   "codemirror_mode": {
    "name": "ipython",
    "version": 3
   },
   "file_extension": ".py",
   "mimetype": "text/x-python",
   "name": "python",
   "nbconvert_exporter": "python",
   "pygments_lexer": "ipython3",
   "version": "3.9.12"
  },
  "varInspector": {
   "cols": {
    "lenName": 16,
    "lenType": 16,
    "lenVar": 40
   },
   "kernels_config": {
    "python": {
     "delete_cmd_postfix": "",
     "delete_cmd_prefix": "del ",
     "library": "var_list.py",
     "varRefreshCmd": "print(var_dic_list())"
    },
    "r": {
     "delete_cmd_postfix": ") ",
     "delete_cmd_prefix": "rm(",
     "library": "var_list.r",
     "varRefreshCmd": "cat(var_dic_list()) "
    }
   },
   "position": {
    "height": "283.85px",
    "left": "1491px",
    "right": "20px",
    "top": "128px",
    "width": "354px"
   },
   "types_to_exclude": [
    "module",
    "function",
    "builtin_function_or_method",
    "instance",
    "_Feature"
   ],
   "window_display": true
  }
 },
 "nbformat": 4,
 "nbformat_minor": 4
}

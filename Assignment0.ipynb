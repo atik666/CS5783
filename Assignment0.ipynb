{
 "cells": [
  {
   "cell_type": "markdown",
   "metadata": {},
   "source": [
    "### Problem 1\n",
    "In this part of the assignment, you will work with file I/O operations,\n",
    "dictionaries, Numpy arrays and visualization with Matplotlib. You will write a\n",
    "simple Python script that will read a file named test.txt. You can hard\n",
    "code this into your program for convenience. A sample file is given on\n",
    "Canvas for your reference. Your program should read a text file and print a\n",
    "histogram of the letters present in the document. The code must have the\n",
    "histogram as both a dictionary, where the keys are letters and the values are\n",
    "the corresponding frequencies, as well as a Numpy array, where each index\n",
    "corresponds to a letter in alphabetical order. For example, the letter ‘a’\n",
    "corresponds to index 0, ‘b’ to index 1, etc.\n",
    "\n",
    "An example of a histogram for a line is given below:\n",
    "\n",
    "Input: The quick brown fox jumps over the lazy dog\n",
    "\n",
    "Output: {'a': 1, 'b': 1, 'c': 1, 'd': 1, 'e': 3, 'f': 1,\n",
    "'g': 1, 'h': 2,\n",
    "'i': 1, 'j': 1, 'k': 1, 'l': 1, 'm': 1, 'n': 1, 'o': 4,\n",
    "'p': 1, 'q': 1, 'r':\n",
    "2, 's': 1, 't': 2, 'u': 2, 'v': 1, 'w': 1, 'x': 1, 'y':\n",
    "1, 'z': 1}\n",
    "\n",
    "Given the computed histogram, create two bar graphs. In the first, the\n",
    "frequencies should be normalized i.e., the frequencies will sum to 1. In the\n",
    "second, they should be unnormalized. Make sure to generate titles\n",
    "appropriately for the graph and the axes. Display the plots to the user along\n",
    "with printing the histogram(s)."
   ]
  },
  {
   "cell_type": "markdown",
   "metadata": {},
   "source": [
    "#### Importing"
   ]
  },
  {
   "cell_type": "code",
   "execution_count": 1,
   "metadata": {},
   "outputs": [],
   "source": [
    "import string\n",
    "import re\n",
    "import collections\n",
    "import numpy as np\n",
    "import matplotlib.pyplot as plt\n",
    "from sklearn import preprocessing"
   ]
  },
  {
   "cell_type": "markdown",
   "metadata": {},
   "source": [
    "#### Read text"
   ]
  },
  {
   "cell_type": "code",
   "execution_count": 2,
   "metadata": {},
   "outputs": [],
   "source": [
    "with open('test.txt') as f:\n",
    "    lines = f.readlines()"
   ]
  },
  {
   "cell_type": "markdown",
   "metadata": {},
   "source": [
    "#### Generate alphabets list"
   ]
  },
  {
   "cell_type": "code",
   "execution_count": 3,
   "metadata": {},
   "outputs": [],
   "source": [
    "alphabet = list(string.ascii_lowercase)"
   ]
  },
  {
   "cell_type": "markdown",
   "metadata": {},
   "source": [
    "#### Count the alphabets"
   ]
  },
  {
   "cell_type": "code",
   "execution_count": 4,
   "metadata": {},
   "outputs": [],
   "source": [
    "count_ind = {}\n",
    "count = []\n",
    "for j in range(len(lines)):\n",
    "    count_ind = {}\n",
    "    for i in range(len(alphabet)):\n",
    "        count_ind[alphabet[i]] = len(re.findall(alphabet[i], lines[j].lower()))\n",
    "    count.append(count_ind)"
   ]
  },
  {
   "cell_type": "markdown",
   "metadata": {},
   "source": [
    "#### Sum the values with same keys"
   ]
  },
  {
   "cell_type": "code",
   "execution_count": 5,
   "metadata": {},
   "outputs": [
    {
     "name": "stdout",
     "output_type": "stream",
     "text": [
      "{'a': 44, 'b': 24, 'c': 23, 'd': 30, 'e': 63, 'f': 22, 'g': 23, 'h': 25, 'i': 56, 'j': 23, 'k': 22, 'l': 26, 'm': 22, 'n': 28, 'o': 50, 'p': 25, 'q': 22, 'r': 40, 's': 25, 't': 36, 'u': 38, 'v': 22, 'w': 22, 'x': 22, 'y': 27, 'z': 23}\n"
     ]
    }
   ],
   "source": [
    "counter = collections.Counter()\n",
    "for d in count: \n",
    "    counter.update(d)     \n",
    "result = dict(counter)\n",
    "print(result)"
   ]
  },
  {
   "cell_type": "markdown",
   "metadata": {},
   "source": [
    "#### Generate graph"
   ]
  },
  {
   "cell_type": "code",
   "execution_count": 6,
   "metadata": {},
   "outputs": [],
   "source": [
    "names = list(result.keys())\n",
    "values = list(result.values())"
   ]
  },
  {
   "cell_type": "markdown",
   "metadata": {},
   "source": [
    "#### Show unnormalized graph"
   ]
  },
  {
   "cell_type": "code",
   "execution_count": 7,
   "metadata": {},
   "outputs": [
    {
     "data": {
      "image/png": "[encoded data removed]",
      "text/plain": [
       "<Figure size 432x288 with 1 Axes>"
      ]
     },
     "metadata": {
      "needs_background": "light"
     },
     "output_type": "display_data"
    }
   ],
   "source": [
    "plt.bar(range(len(result)), values, tick_label=names) # unnormalized\n",
    "\n",
    "plt.title(\"Frequency of alphabets (unnormalized)\")\n",
    "plt.xlabel(\"Alphabets\")\n",
    "plt.ylabel(\"Frequency\")\n",
    "\n",
    "plt.show()"
   ]
  },
  {
   "cell_type": "markdown",
   "metadata": {},
   "source": [
    "#### Normalize array"
   ]
  },
  {
   "cell_type": "code",
   "execution_count": 8,
   "metadata": {},
   "outputs": [],
   "source": [
    "normalized_arr = np.squeeze(preprocessing.normalize([values])) "
   ]
  },
  {
   "cell_type": "markdown",
   "metadata": {},
   "source": [
    "#### Show normalized graph"
   ]
  },
  {
   "cell_type": "code",
   "execution_count": 9,
   "metadata": {},
   "outputs": [
    {
     "data": {
      "image/png": "[encoded data removed]",
      "text/plain": [
       "<Figure size 432x288 with 1 Axes>"
      ]
     },
     "metadata": {
      "needs_background": "light"
     },
     "output_type": "display_data"
    }
   ],
   "source": [
    "plt.bar(range(len(result)), normalized_arr, tick_label=names) # normalized\n",
    "plt.title(\"Frequency of alphabets (normalized)\")\n",
    "plt.xlabel(\"Alphabets\")\n",
    "plt.ylabel(\"Frequency\")\n",
    "plt.show()"
   ]
  }
 ],
 "metadata": {
  "kernelspec": {
   "display_name": "Python 3",
   "language": "python",
   "name": "python3"
  },
  "language_info": {
   "codemirror_mode": {
    "name": "ipython",
    "version": 3
   },
   "file_extension": ".py",
   "mimetype": "text/x-python",
   "name": "python",
   "nbconvert_exporter": "python",
   "pygments_lexer": "ipython3",
   "version": "3.8.3"
  },
  "varInspector": {
   "cols": {
    "lenName": 16,
    "lenType": 16,
    "lenVar": 40
   },
   "kernels_config": {
    "python": {
     "delete_cmd_postfix": "",
     "delete_cmd_prefix": "del ",
     "library": "var_list.py",
     "varRefreshCmd": "print(var_dic_list())"
    },
    "r": {
     "delete_cmd_postfix": ") ",
     "delete_cmd_prefix": "rm(",
     "library": "var_list.r",
     "varRefreshCmd": "cat(var_dic_list()) "
    }
   },
   "position": {
    "height": "394.844px",
    "left": "1537px",
    "right": "20px",
    "top": "133px",
    "width": "364px"
   },
   "types_to_exclude": [
    "module",
    "function",
    "builtin_function_or_method",
    "instance",
    "_Feature"
   ],
   "window_display": true
  }
 },
 "nbformat": 4,
 "nbformat_minor": 4
}

{
 "cells": [
  {
   "cell_type": "code",
   "execution_count": 1,
   "metadata": {},
   "outputs": [],
   "source": [
    "import numpy as np\n",
    "import matplotlib.pyplot as plt\n",
    "import copy"
   ]
  },
  {
   "cell_type": "code",
   "execution_count": 2,
   "metadata": {},
   "outputs": [],
   "source": [
    "x_train = np.load('x_train.npy')\n",
    "y_train = np.expand_dims(np.load('y_train.npy'), axis=1)\n",
    "x_test = np.load('x_test.npy') \n",
    "y_test = np.load('y_test.npy')"
   ]
  },
  {
   "cell_type": "code",
   "execution_count": 3,
   "metadata": {},
   "outputs": [],
   "source": [
    "x_train_p = copy.copy(x_train)\n",
    "x_test_p = copy.copy(x_test)"
   ]
  },
  {
   "cell_type": "code",
   "execution_count": 4,
   "metadata": {},
   "outputs": [],
   "source": [
    "#feature normalization\n",
    "def NormalizeData(data):\n",
    "    return (data - np.min(data)) / (np.max(data) - np.min(data))\n",
    "\n",
    "x_train = NormalizeData(x_train)\n",
    "y_train = NormalizeData(y_train)\n",
    "x_test = NormalizeData(x_test)\n",
    "y_test = NormalizeData(y_test)\n",
    "\n",
    "x_train_p = NormalizeData(x_train_p)\n",
    "x_test_p = NormalizeData(x_test_p)"
   ]
  },
  {
   "cell_type": "code",
   "execution_count": 5,
   "metadata": {},
   "outputs": [
    {
     "data": {
      "image/png": "[encoded data removed]",
      "text/plain": [
       "<Figure size 720x216 with 2 Axes>"
      ]
     },
     "metadata": {
      "needs_background": "light"
     },
     "output_type": "display_data"
    }
   ],
   "source": [
    "# plotting the data\n",
    "plt.figure(figsize = (10,3))\n",
    "plt.subplot(1, 2, 1)\n",
    "plt.scatter(x_train, y_train) \n",
    "plt.title(\"Linear graph: train data\")\n",
    "plt.subplot(1, 2, 2)\n",
    "plt.scatter(x_test, y_test) \n",
    "plt.title(\"Linear graph: test data\")\n",
    "plt.show()"
   ]
  },
  {
   "cell_type": "code",
   "execution_count": 6,
   "metadata": {},
   "outputs": [],
   "source": [
    "x_train = np.hstack((np.ones_like(x_train), x_train))\n",
    "x_test = np.hstack((np.ones_like(x_test), x_test))"
   ]
  },
  {
   "cell_type": "code",
   "execution_count": 7,
   "metadata": {},
   "outputs": [],
   "source": [
    "def get_gradient(w, x, y):\n",
    "    y_estimate = x.dot(w).flatten()\n",
    "    error = (y.flatten() - y_estimate)\n",
    "    mse = (1.0/len(x))*np.sum(np.power(error, 2))\n",
    "    gradient = -(1.0/len(x)) * error.dot(x)\n",
    "    return gradient, mse"
   ]
  },
  {
   "cell_type": "code",
   "execution_count": 8,
   "metadata": {},
   "outputs": [
    {
     "name": "stdout",
     "output_type": "stream",
     "text": [
      "Iteration: 100 - Error: 0.0145\n",
      "Iteration: 200 - Error: 0.0144\n",
      "Iteration: 300 - Error: 0.0144\n",
      "Converged.\n",
      "w = [0.41625844 0.18220744]\n",
      "Test Cost = 0.11863245972957824\n"
     ]
    }
   ],
   "source": [
    "w = np.random.randn(2)\n",
    "alpha = 0.5\n",
    "tolerance = 1e-7\n",
    "\n",
    "# Perform Gradient Descent\n",
    "iterations = 1\n",
    "while True:\n",
    "    gradient, error = get_gradient(w, x_train, y_train)\n",
    "    new_w = w - alpha * gradient\n",
    "    \n",
    "    # Stopping Condition\n",
    "    if np.sum(abs(new_w - w)) < tolerance:\n",
    "        print(\"Converged.\")\n",
    "        break\n",
    "    \n",
    "    # Print error every 50 iterations\n",
    "    if iterations % 100 == 0:\n",
    "        print(\"Iteration: %d - Error: %.4f\" %(iterations, error))\n",
    "    \n",
    "    iterations += 1\n",
    "    w = new_w\n",
    "\n",
    "print (\"w =\",w)\n",
    "print(\"Test Cost =\", get_gradient(w, x_test, y_test)[1])"
   ]
  },
  {
   "cell_type": "code",
   "execution_count": 9,
   "metadata": {},
   "outputs": [
    {
     "data": {
      "image/png": "[encoded data removed]",
      "text/plain": [
       "<Figure size 432x288 with 1 Axes>"
      ]
     },
     "metadata": {
      "needs_background": "light"
     },
     "output_type": "display_data"
    }
   ],
   "source": [
    "plt.plot(x_train[:,1], x_train.dot(w), c='g', label='Model')\n",
    "plt.scatter(x_train[:,1], y_train, c='b', label='Train Set')\n",
    "plt.scatter(x_test[:,1], y_test, c='r', label='Test Set')\n",
    "plt.grid()\n",
    "plt.legend(loc='best')\n",
    "plt.xlabel('X')\n",
    "plt.ylabel('Y')\n",
    "plt.show()"
   ]
  },
  {
   "cell_type": "code",
   "execution_count": 10,
   "metadata": {},
   "outputs": [],
   "source": [
    "model_order = 8\n",
    "x_train_p = np.power(x_train_p, range(model_order))\n",
    "x_test_p = np.power(x_test_p, range(model_order))"
   ]
  },
  {
   "cell_type": "code",
   "execution_count": 11,
   "metadata": {},
   "outputs": [],
   "source": [
    "def get_gradient_p(w, x, y):\n",
    "    y_estimate = x.dot(w).flatten()\n",
    "    error = (y.flatten() - y_estimate)\n",
    "    mse = (1.0/len(x))*np.sum(np.power(error, 2))\n",
    "    gradient = -(1.0/len(x)) * error.dot(x)\n",
    "    return gradient, mse"
   ]
  },
  {
   "cell_type": "code",
   "execution_count": 12,
   "metadata": {},
   "outputs": [
    {
     "name": "stdout",
     "output_type": "stream",
     "text": [
      "Epoch: 100 - Error: 0.0119\n",
      "Epoch: 200 - Error: 0.0081\n",
      "Epoch: 300 - Error: 0.0081\n",
      "Epoch: 400 - Error: 0.0072\n",
      "Epoch: 500 - Error: 0.0075\n",
      "Epoch: 600 - Error: 0.0072\n",
      "Epoch: 700 - Error: 0.0072\n",
      "Epoch: 800 - Error: 0.0074\n",
      "Epoch: 900 - Error: 0.0070\n",
      "Epoch: 1000 - Error: 0.0071\n",
      "Epoch: 1100 - Error: 0.0072\n",
      "Epoch: 1200 - Error: 0.0070\n",
      "Epoch: 1300 - Error: 0.0070\n",
      "Converged.\n",
      "w = [ 3.04045272e-01  1.17334669e+00 -1.24383973e+00 -5.27493418e-01\n",
      " -1.64278227e-04  1.15844105e-01 -2.29384972e-01  1.28446703e+00]\n",
      "Test Cost = 0.1518233943403946\n",
      "Total iterations = 13000\n"
     ]
    }
   ],
   "source": [
    "w = np.random.randn(model_order)\n",
    "alpha = 0.5\n",
    "tolerance = 1e-5\n",
    "\n",
    "# Perform Stochastic Gradient Descent\n",
    "epochs = 1\n",
    "decay = 0.99\n",
    "batch_size = 10\n",
    "iterations = 0\n",
    "while True:\n",
    "    order = np.random.permutation(len(x_train_p))\n",
    "    x_train_p = x_train_p[order]\n",
    "    y_train = y_train[order]\n",
    "    b=0\n",
    "    while b < len(x_train_p):\n",
    "        tx = x_train_p[b : b+batch_size]\n",
    "        ty = y_train[b : b+batch_size]\n",
    "        gradient = get_gradient_p(w, tx, ty)[0]\n",
    "        error = get_gradient_p(w, x_train_p, y_train)[1]\n",
    "        w -= alpha * gradient\n",
    "        iterations += 1\n",
    "        b += batch_size\n",
    "    \n",
    "    # Keep track of our performance\n",
    "    if epochs%100==0:\n",
    "        new_error = get_gradient_p(w, x_train_p, y_train)[1]\n",
    "        print(\"Epoch: %d - Error: %.4f\" %(epochs, new_error))\n",
    "    \n",
    "        # Stopping Condition\n",
    "        if abs(new_error - error) < tolerance:\n",
    "            print(\"Converged.\")\n",
    "            break\n",
    "        \n",
    "    alpha = alpha * (decay ** int(epochs/1000))\n",
    "    epochs += 1\n",
    "\n",
    "print(\"w =\",w)\n",
    "print(\"Test Cost =\", get_gradient(w, x_test_p, y_test)[1])\n",
    "print(\"Total iterations =\", iterations)"
   ]
  },
  {
   "cell_type": "code",
   "execution_count": 13,
   "metadata": {},
   "outputs": [
    {
     "data": {
      "image/png": "[encoded data removed]",
      "text/plain": [
       "<Figure size 432x288 with 1 Axes>"
      ]
     },
     "metadata": {
      "needs_background": "light"
     },
     "output_type": "display_data"
    }
   ],
   "source": [
    "y_model = np.polyval(w[::-1], np.linspace(0,1,100))\n",
    "plt.plot(np.linspace(0,1,100), y_model, c='g', label='Model')\n",
    "plt.scatter(x_train_p[:,1], y_train, c='b', label='Train Set')\n",
    "plt.scatter(x_test_p[:,1], y_test, c='r', label='Test Set')\n",
    "plt.grid()\n",
    "plt.legend(loc='best')\n",
    "plt.xlabel('X')\n",
    "plt.ylabel('Y')\n",
    "plt.xlim(0,1)\n",
    "plt.show()"
   ]
  },
  {
   "cell_type": "code",
   "execution_count": null,
   "metadata": {},
   "outputs": [],
   "source": []
  }
 ],
 "metadata": {
  "kernelspec": {
   "display_name": "Python 3",
   "language": "python",
   "name": "python3"
  },
  "language_info": {
   "codemirror_mode": {
    "name": "ipython",
    "version": 3
   },
   "file_extension": ".py",
   "mimetype": "text/x-python",
   "name": "python",
   "nbconvert_exporter": "python",
   "pygments_lexer": "ipython3",
   "version": "3.8.3"
  },
  "varInspector": {
   "cols": {
    "lenName": 16,
    "lenType": 16,
    "lenVar": 40
   },
   "kernels_config": {
    "python": {
     "delete_cmd_postfix": "",
     "delete_cmd_prefix": "del ",
     "library": "var_list.py",
     "varRefreshCmd": "print(var_dic_list())"
    },
    "r": {
     "delete_cmd_postfix": ") ",
     "delete_cmd_prefix": "rm(",
     "library": "var_list.r",
     "varRefreshCmd": "cat(var_dic_list()) "
    }
   },
   "position": {
    "height": "625.844px",
    "left": "1540px",
    "right": "20px",
    "top": "135px",
    "width": "350px"
   },
   "types_to_exclude": [
    "module",
    "function",
    "builtin_function_or_method",
    "instance",
    "_Feature"
   ],
   "window_display": true
  }
 },
 "nbformat": 4,
 "nbformat_minor": 4
}

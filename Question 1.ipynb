{
 "cells": [
  {
   "cell_type": "markdown",
   "metadata": {},
   "source": [
    "[Question 1] [15 points]\n",
    "Suppose that you are conducting a scientific experiment where you are observing the effects of one\n",
    "variable (x_train.npy and x_test.npy) on the output (y_train.npy and y_test.npy). On visualizing the\n",
    "relationship between the variables, you see the following plot:\n",
    "Your goal is to come up with a linear regression model that can take the training data (x_train.npy and\n",
    "y_train.npy) and model the relationship between the variables x and y. You should implement your\n",
    "own version of linear regression either using gradient descent or normal equations. You SHOULD\n",
    "NOT use any pre-packaged library such as Sci-Kit Learn.\n",
    "Here are somethings to keep in mind for tackling this problem:\n",
    "1. Try to plot this relationship on your own using matplotlib. You can also visualize the test data\n",
    "to see if it gives you any clues about the underlying relationship between the variables.\n",
    "2. Use your knowledge gleaned from the previous step to answer the following questions:\n",
    "a. Is the relationship linear?\n",
    "b. Do you need feature engineering to add any non-linearity?\n",
    "i. If so, how can you engineer these features?\n",
    "ii. What are some functions that you can try?\n",
    "1. Plot each of them individually to verify!\n",
    "You will need to write a short report detailing your thought process, the code you wrote in Python to\n",
    "implement the linear regression model and the equation that models the relationship between x and y\n",
    "that you found. You should provide evidence that corroborates your final statement such as plots,\n",
    "prediction errors, etc."
   ]
  },
  {
   "cell_type": "code",
   "execution_count": 1,
   "metadata": {},
   "outputs": [],
   "source": [
    "# import libraries\n",
    "import numpy as np\n",
    "import matplotlib.pyplot as plt\n",
    "import copy"
   ]
  },
  {
   "cell_type": "code",
   "execution_count": 2,
   "metadata": {},
   "outputs": [],
   "source": [
    "# Load data\n",
    "x_train = np.load('x_train.npy')\n",
    "y_train = np.expand_dims(np.load('y_train.npy'), axis=1)\n",
    "x_test = np.load('x_test.npy') \n",
    "y_test = np.load('y_test.npy')"
   ]
  },
  {
   "cell_type": "code",
   "execution_count": 3,
   "metadata": {},
   "outputs": [],
   "source": [
    "# feature normalization\n",
    "def NormalizeData(data):\n",
    "    return (data - np.min(data)) / (np.max(data) - np.min(data))\n",
    "\n",
    "x_train = NormalizeData(x_train)\n",
    "y_train = NormalizeData(y_train)\n",
    "x_test = NormalizeData(x_test)\n",
    "y_test = NormalizeData(y_test)"
   ]
  },
  {
   "cell_type": "code",
   "execution_count": 4,
   "metadata": {},
   "outputs": [
    {
     "data": {
      "image/png": "[encoded data removed]",
      "text/plain": [
       "<Figure size 720x216 with 2 Axes>"
      ]
     },
     "metadata": {
      "needs_background": "light"
     },
     "output_type": "display_data"
    }
   ],
   "source": [
    "# plotting the data\n",
    "plt.figure(figsize = (10,3))\n",
    "plt.subplot(1, 2, 1)\n",
    "plt.scatter(x_train, y_train, c='b') \n",
    "plt.title(\"Train data\")\n",
    "plt.subplot(1, 2, 2)\n",
    "plt.scatter(x_test, y_test, c='r') \n",
    "plt.title(\"Test data\")\n",
    "plt.show()"
   ]
  },
  {
   "cell_type": "code",
   "execution_count": 5,
   "metadata": {},
   "outputs": [],
   "source": [
    "# adding bias term\n",
    "x_train = np.hstack((np.ones_like(x_train), x_train))\n",
    "x_test = np.hstack((np.ones_like(x_test), x_test))"
   ]
  },
  {
   "cell_type": "markdown",
   "metadata": {},
   "source": [
    "### Linear Regression function"
   ]
  },
  {
   "cell_type": "code",
   "execution_count": 6,
   "metadata": {},
   "outputs": [],
   "source": [
    "def LinearRegression(x_train,y_train):\n",
    "    \n",
    "    def get_gradient(w, x, y):\n",
    "        y_estimate = x.dot(w).flatten()\n",
    "        error = (y.flatten() - y_estimate)\n",
    "        mse = (1.0/len(x))*np.sum(np.power(error, 2))\n",
    "        gradient = -(1.0/len(x)) * error.dot(x)\n",
    "        return gradient, mse\n",
    "\n",
    "    w = np.random.randn(2)\n",
    "    alpha = 0.1\n",
    "    tolerance = 1e-5\n",
    "\n",
    "    # Perform Gradient Descent\n",
    "    iterations = 1\n",
    "    while True:\n",
    "        gradient, error = get_gradient(w, x_train, y_train)\n",
    "        new_w = w - alpha * gradient\n",
    "\n",
    "        # Stopping Condition\n",
    "        if np.sum(abs(new_w - w)) < tolerance:\n",
    "            print(\"Converged.\")\n",
    "            break\n",
    "\n",
    "        # Print error every 50 iterations\n",
    "        if iterations % 100 == 0:\n",
    "            print(\"Iteration: %d - Error: %.4f\" %(iterations, error))\n",
    "\n",
    "        iterations += 1\n",
    "        w = new_w\n",
    "\n",
    "    print (\"w =\",w)\n",
    "    \n",
    "    return w"
   ]
  },
  {
   "cell_type": "markdown",
   "metadata": {},
   "source": [
    "### LR on train data"
   ]
  },
  {
   "cell_type": "code",
   "execution_count": 7,
   "metadata": {},
   "outputs": [
    {
     "name": "stdout",
     "output_type": "stream",
     "text": [
      "Iteration: 100 - Error: 0.0211\n",
      "Iteration: 200 - Error: 0.0162\n",
      "Iteration: 300 - Error: 0.0149\n",
      "Iteration: 400 - Error: 0.0145\n",
      "Iteration: 500 - Error: 0.0145\n",
      "Iteration: 600 - Error: 0.0144\n",
      "Iteration: 700 - Error: 0.0144\n",
      "Iteration: 800 - Error: 0.0144\n",
      "Iteration: 900 - Error: 0.0144\n",
      "Converged.\n",
      "w = [0.41675949 0.18121388]\n"
     ]
    }
   ],
   "source": [
    "w = LinearRegression(x_train, y_train)"
   ]
  },
  {
   "cell_type": "markdown",
   "metadata": {},
   "source": [
    "### Plot LR on train data"
   ]
  },
  {
   "cell_type": "code",
   "execution_count": 8,
   "metadata": {},
   "outputs": [
    {
     "data": {
      "image/png": "[encoded data removed]",
      "text/plain": [
       "<Figure size 432x288 with 1 Axes>"
      ]
     },
     "metadata": {
      "needs_background": "light"
     },
     "output_type": "display_data"
    }
   ],
   "source": [
    "plt.plot(x_train[:,1], x_train.dot(w), c='g', label='Model')\n",
    "plt.scatter(x_train[:,1], y_train, c='b', label='Train Set')\n",
    "plt.grid()\n",
    "plt.legend(loc='best')\n",
    "plt.xlabel('X')\n",
    "plt.ylabel('Y')\n",
    "plt.show()"
   ]
  },
  {
   "cell_type": "markdown",
   "metadata": {},
   "source": [
    "### LR on test data"
   ]
  },
  {
   "cell_type": "code",
   "execution_count": 9,
   "metadata": {},
   "outputs": [
    {
     "name": "stdout",
     "output_type": "stream",
     "text": [
      "Iteration: 100 - Error: 0.0237\n",
      "Iteration: 200 - Error: 0.0170\n",
      "Iteration: 300 - Error: 0.0154\n",
      "Iteration: 400 - Error: 0.0150\n",
      "Iteration: 500 - Error: 0.0149\n",
      "Iteration: 600 - Error: 0.0149\n",
      "Iteration: 700 - Error: 0.0149\n",
      "Iteration: 800 - Error: 0.0149\n",
      "Iteration: 900 - Error: 0.0149\n",
      "Converged.\n",
      "w = [-0.08735196  1.20617318]\n"
     ]
    }
   ],
   "source": [
    "w = LinearRegression(x_test, y_test)"
   ]
  },
  {
   "cell_type": "markdown",
   "metadata": {},
   "source": [
    "### Plot LR on test data"
   ]
  },
  {
   "cell_type": "code",
   "execution_count": 10,
   "metadata": {},
   "outputs": [
    {
     "data": {
      "image/png": "[encoded data removed]",
      "text/plain": [
       "<Figure size 432x288 with 1 Axes>"
      ]
     },
     "metadata": {
      "needs_background": "light"
     },
     "output_type": "display_data"
    }
   ],
   "source": [
    "plt.plot(x_test[:,1], x_test.dot(w), c='g', label='Model')\n",
    "plt.scatter(x_test[:,1], y_test, c='r', label='Train Set')\n",
    "plt.grid()\n",
    "plt.legend(loc='best')\n",
    "plt.xlabel('X')\n",
    "plt.ylabel('Y')\n",
    "plt.show()"
   ]
  },
  {
   "cell_type": "markdown",
   "metadata": {},
   "source": [
    "# \"\"\"\"\"\"\"\"\"\"\"\"\"\"\"\"\"\"\"\"\"\"\"\"\"\"\"\"\"\"\"\"\"\"\"\"\"\"\"\""
   ]
  },
  {
   "cell_type": "code",
   "execution_count": 16,
   "metadata": {},
   "outputs": [],
   "source": [
    "global model_order\n",
    "model_order = 5 # select model order\n",
    "\n",
    "x_train_p = np.load('x_train.npy')\n",
    "x_test_p = np.load('x_test.npy') \n",
    "\n",
    "x_train_p = NormalizeData(x_train_p)\n",
    "x_test_p = NormalizeData(x_test_p)\n",
    "\n",
    "x_train_p = np.power(x_train_p, range(model_order))\n",
    "x_test_p = np.power(x_test_p, range(model_order))"
   ]
  },
  {
   "cell_type": "markdown",
   "metadata": {},
   "source": [
    "### Polynomial regression function"
   ]
  },
  {
   "cell_type": "code",
   "execution_count": 17,
   "metadata": {},
   "outputs": [],
   "source": [
    "def PolyReg(x_train_p, y_train):\n",
    "\n",
    "    def get_gradient_p(w_p, x, y):\n",
    "        y_estimate = x.dot(w_p).flatten()\n",
    "        error = (y.flatten() - y_estimate)\n",
    "        mse = (1.0/len(x))*np.sum(np.power(error, 2))\n",
    "        gradient = -(1.0/len(x)) * error.dot(x)\n",
    "        return gradient, mse\n",
    "\n",
    "    w_p = np.random.randn(model_order)\n",
    "    alpha = 0.5\n",
    "    tolerance = 1e-6\n",
    "\n",
    "    # Perform Stochastic Gradient Descent\n",
    "    epochs = 1\n",
    "    decay = 0.99\n",
    "    batch_size = 5\n",
    "    iterations = 0\n",
    "    while True:\n",
    "        order = np.random.permutation(len(x_train_p))\n",
    "        x_train_p = x_train_p[order]\n",
    "        y_train = y_train[order]\n",
    "        b=0\n",
    "        while b < len(x_train_p):\n",
    "            tx = x_train_p[b : b+batch_size]\n",
    "            ty = y_train[b : b+batch_size]\n",
    "            gradient = get_gradient_p(w_p, tx, ty)[0]\n",
    "            error = get_gradient_p(w_p, x_train_p, y_train)[1]\n",
    "            w_p -= alpha * gradient\n",
    "            iterations += 1\n",
    "            b += batch_size\n",
    "\n",
    "        # Keep track of our performance\n",
    "        if epochs%100==0:\n",
    "            new_error = get_gradient_p(w_p, x_train_p, y_train)[1]\n",
    "            print(\"Epoch: %d - Error: %.4f\" %(epochs, new_error))\n",
    "\n",
    "            # Stopping Condition\n",
    "            if abs(new_error - error) < tolerance:\n",
    "                print(\"Converged.\")\n",
    "                break\n",
    "\n",
    "        alpha = alpha * (decay ** int(epochs/1000))\n",
    "        epochs += 1\n",
    "\n",
    "    print(\"w =\",w_p)\n",
    "    print(\"Total iterations =\", iterations)\n",
    "    \n",
    "    return w_p"
   ]
  },
  {
   "cell_type": "code",
   "execution_count": 18,
   "metadata": {},
   "outputs": [
    {
     "name": "stdout",
     "output_type": "stream",
     "text": [
      "Epoch: 100 - Error: 0.0118\n",
      "Epoch: 200 - Error: 0.0088\n",
      "Epoch: 300 - Error: 0.0084\n",
      "Epoch: 400 - Error: 0.0106\n",
      "Epoch: 500 - Error: 0.0109\n",
      "Epoch: 600 - Error: 0.0081\n",
      "Epoch: 700 - Error: 0.0072\n",
      "Epoch: 800 - Error: 0.0108\n",
      "Epoch: 900 - Error: 0.0077\n",
      "Epoch: 1000 - Error: 0.0113\n",
      "Epoch: 1100 - Error: 0.0072\n",
      "Epoch: 1200 - Error: 0.0071\n",
      "Epoch: 1300 - Error: 0.0071\n",
      "Epoch: 1400 - Error: 0.0071\n",
      "Converged.\n",
      "w = [ 0.26247272  1.85403109 -3.0873563  -0.50802339  2.29456013]\n",
      "Total iterations = 28000\n"
     ]
    }
   ],
   "source": [
    "w_p = PolyReg(x_train_p, y_train)"
   ]
  },
  {
   "cell_type": "markdown",
   "metadata": {},
   "source": [
    "### Plot PLR on train data"
   ]
  },
  {
   "cell_type": "code",
   "execution_count": 19,
   "metadata": {},
   "outputs": [
    {
     "data": {
      "image/png": "[encoded data removed]",
      "text/plain": [
       "<Figure size 432x288 with 1 Axes>"
      ]
     },
     "metadata": {
      "needs_background": "light"
     },
     "output_type": "display_data"
    }
   ],
   "source": [
    "y_model = np.polyval(w_p[::-1], y_train)\n",
    "plt.scatter(x_train_p[:,1], y_model, c='g', label='Model')\n",
    "plt.scatter(x_train_p[:,1], y_train, c='b', label='Train Set')\n",
    "plt.grid()\n",
    "plt.legend(loc='best')\n",
    "plt.xlabel('X')\n",
    "plt.ylabel('Y')\n",
    "plt.xlim(0,1)\n",
    "plt.show()"
   ]
  },
  {
   "cell_type": "markdown",
   "metadata": {},
   "source": [
    "### Plot PLR on test data"
   ]
  },
  {
   "cell_type": "code",
   "execution_count": 20,
   "metadata": {},
   "outputs": [
    {
     "data": {
      "image/png": "[encoded data removed]",
      "text/plain": [
       "<Figure size 432x288 with 1 Axes>"
      ]
     },
     "metadata": {
      "needs_background": "light"
     },
     "output_type": "display_data"
    }
   ],
   "source": [
    "y_model_test = np.polyval(w_p[::-1], y_test)\n",
    "plt.scatter(x_test_p[:,1], y_model_test, c='g', label='Model')\n",
    "plt.scatter(x_test_p[:,1], y_test, c='r', label='Test Set')\n",
    "plt.grid()\n",
    "plt.legend(loc='best')\n",
    "plt.xlabel('X')\n",
    "plt.ylabel('Y')\n",
    "plt.xlim(0,1)\n",
    "plt.show()"
   ]
  },
  {
   "cell_type": "code",
   "execution_count": null,
   "metadata": {},
   "outputs": [],
   "source": []
  }
 ],
 "metadata": {
  "kernelspec": {
   "display_name": "Python 3",
   "language": "python",
   "name": "python3"
  },
  "language_info": {
   "codemirror_mode": {
    "name": "ipython",
    "version": 3
   },
   "file_extension": ".py",
   "mimetype": "text/x-python",
   "name": "python",
   "nbconvert_exporter": "python",
   "pygments_lexer": "ipython3",
   "version": "3.8.3"
  },
  "varInspector": {
   "cols": {
    "lenName": 16,
    "lenType": 16,
    "lenVar": 40
   },
   "kernels_config": {
    "python": {
     "delete_cmd_postfix": "",
     "delete_cmd_prefix": "del ",
     "library": "var_list.py",
     "varRefreshCmd": "print(var_dic_list())"
    },
    "r": {
     "delete_cmd_postfix": ") ",
     "delete_cmd_prefix": "rm(",
     "library": "var_list.r",
     "varRefreshCmd": "cat(var_dic_list()) "
    }
   },
   "position": {
    "height": "479.844px",
    "left": "1505px",
    "right": "20px",
    "top": "139px",
    "width": "385px"
   },
   "types_to_exclude": [
    "module",
    "function",
    "builtin_function_or_method",
    "instance",
    "_Feature"
   ],
   "window_display": true
  }
 },
 "nbformat": 4,
 "nbformat_minor": 4
}

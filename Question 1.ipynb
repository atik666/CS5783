{
 "cells": [
  {
   "cell_type": "code",
   "execution_count": 101,
   "metadata": {},
   "outputs": [],
   "source": [
    "# import libraries\n",
    "import numpy as np\n",
    "import matplotlib.pyplot as plt\n",
    "import copy"
   ]
  },
  {
   "cell_type": "code",
   "execution_count": 102,
   "metadata": {},
   "outputs": [],
   "source": [
    "# Load data\n",
    "x_train = np.load('x_train.npy')\n",
    "y_train = np.expand_dims(np.load('y_train.npy'), axis=1)\n",
    "x_test = np.load('x_test.npy') \n",
    "y_test = np.load('y_test.npy')"
   ]
  },
  {
   "cell_type": "code",
   "execution_count": 103,
   "metadata": {},
   "outputs": [],
   "source": [
    "# feature normalization\n",
    "def NormalizeData(data):\n",
    "    return (data - np.min(data)) / (np.max(data) - np.min(data))\n",
    "\n",
    "x_train = NormalizeData(x_train)\n",
    "y_train = NormalizeData(y_train)\n",
    "x_test = NormalizeData(x_test)\n",
    "y_test = NormalizeData(y_test)"
   ]
  },
  {
   "cell_type": "code",
   "execution_count": 108,
   "metadata": {},
   "outputs": [
    {
     "data": {
      "image/png": "[encoded data removed]",
      "text/plain": [
       "<Figure size 720x216 with 2 Axes>"
      ]
     },
     "metadata": {
      "needs_background": "light"
     },
     "output_type": "display_data"
    }
   ],
   "source": [
    "# plotting the data\n",
    "plt.figure(figsize = (10,3))\n",
    "plt.subplot(1, 2, 1)\n",
    "plt.scatter(x_train, y_train, c='b') \n",
    "plt.title(\"Train data\")\n",
    "plt.subplot(1, 2, 2)\n",
    "plt.scatter(x_test, y_test, c='r') \n",
    "plt.title(\"Test data\")\n",
    "plt.show()"
   ]
  },
  {
   "cell_type": "code",
   "execution_count": 109,
   "metadata": {},
   "outputs": [],
   "source": [
    "# adding bias term\n",
    "x_train = np.hstack((np.ones_like(x_train), x_train))\n",
    "x_test = np.hstack((np.ones_like(x_test), x_test))"
   ]
  },
  {
   "cell_type": "markdown",
   "metadata": {},
   "source": [
    "### Linear Regression function"
   ]
  },
  {
   "cell_type": "code",
   "execution_count": 110,
   "metadata": {},
   "outputs": [],
   "source": [
    "def LinearRegression(x_train,y_train):\n",
    "    \n",
    "    def get_gradient(w, x, y):\n",
    "        y_estimate = x.dot(w).flatten()\n",
    "        error = (y.flatten() - y_estimate)\n",
    "        mse = (1.0/len(x))*np.sum(np.power(error, 2))\n",
    "        gradient = -(1.0/len(x)) * error.dot(x)\n",
    "        return gradient, mse\n",
    "\n",
    "    w = np.random.randn(2)\n",
    "    alpha = 0.1\n",
    "    tolerance = 1e-7\n",
    "\n",
    "    # Perform Gradient Descent\n",
    "    iterations = 1\n",
    "    while True:\n",
    "        gradient, error = get_gradient(w, x_train, y_train)\n",
    "        new_w = w - alpha * gradient\n",
    "\n",
    "        # Stopping Condition\n",
    "        if np.sum(abs(new_w - w)) < tolerance:\n",
    "            print(\"Converged.\")\n",
    "            break\n",
    "\n",
    "        # Print error every 50 iterations\n",
    "        if iterations % 100 == 0:\n",
    "            print(\"Iteration: %d - Error: %.4f\" %(iterations, error))\n",
    "\n",
    "        iterations += 1\n",
    "        w = new_w\n",
    "\n",
    "    print (\"w =\",w)\n",
    "    \n",
    "    return w"
   ]
  },
  {
   "cell_type": "markdown",
   "metadata": {},
   "source": [
    "### LR on train data"
   ]
  },
  {
   "cell_type": "code",
   "execution_count": 111,
   "metadata": {},
   "outputs": [
    {
     "name": "stdout",
     "output_type": "stream",
     "text": [
      "Iteration: 100 - Error: 0.0295\n",
      "Iteration: 200 - Error: 0.0180\n",
      "Iteration: 300 - Error: 0.0168\n",
      "Iteration: 400 - Error: 0.0164\n",
      "Iteration: 500 - Error: 0.0162\n",
      "Iteration: 600 - Error: 0.0160\n",
      "Iteration: 700 - Error: 0.0158\n",
      "Iteration: 800 - Error: 0.0156\n",
      "Iteration: 900 - Error: 0.0155\n",
      "Iteration: 1000 - Error: 0.0153\n",
      "Iteration: 1100 - Error: 0.0152\n",
      "Iteration: 1200 - Error: 0.0151\n",
      "Iteration: 1300 - Error: 0.0150\n",
      "Iteration: 1400 - Error: 0.0150\n",
      "Iteration: 1500 - Error: 0.0149\n",
      "Iteration: 1600 - Error: 0.0148\n",
      "Iteration: 1700 - Error: 0.0148\n",
      "Iteration: 1800 - Error: 0.0147\n",
      "Iteration: 1900 - Error: 0.0147\n",
      "Iteration: 2000 - Error: 0.0147\n",
      "Iteration: 2100 - Error: 0.0146\n",
      "Iteration: 2200 - Error: 0.0146\n",
      "Iteration: 2300 - Error: 0.0146\n",
      "Iteration: 2400 - Error: 0.0146\n",
      "Iteration: 2500 - Error: 0.0145\n",
      "Iteration: 2600 - Error: 0.0145\n",
      "Iteration: 2700 - Error: 0.0145\n",
      "Iteration: 2800 - Error: 0.0145\n",
      "Iteration: 2900 - Error: 0.0145\n",
      "Iteration: 3000 - Error: 0.0145\n",
      "Iteration: 3100 - Error: 0.0145\n",
      "Iteration: 3200 - Error: 0.0145\n",
      "Iteration: 3300 - Error: 0.0145\n",
      "Iteration: 3400 - Error: 0.0145\n",
      "Iteration: 3500 - Error: 0.0145\n",
      "Iteration: 3600 - Error: 0.0144\n",
      "Iteration: 3700 - Error: 0.0144\n",
      "Iteration: 3800 - Error: 0.0144\n",
      "Iteration: 3900 - Error: 0.0144\n",
      "Iteration: 4000 - Error: 0.0144\n",
      "Iteration: 4100 - Error: 0.0144\n",
      "Iteration: 4200 - Error: 0.0144\n",
      "Iteration: 4300 - Error: 0.0144\n",
      "Iteration: 4400 - Error: 0.0144\n",
      "Iteration: 4500 - Error: 0.0144\n",
      "Iteration: 4600 - Error: 0.0144\n",
      "Iteration: 4700 - Error: 0.0144\n",
      "Iteration: 4800 - Error: 0.0144\n",
      "Iteration: 4900 - Error: 0.0144\n",
      "Iteration: 5000 - Error: 0.0144\n",
      "Iteration: 5100 - Error: 0.0144\n",
      "Iteration: 5200 - Error: 0.0144\n",
      "Iteration: 5300 - Error: 0.0144\n",
      "Iteration: 5400 - Error: 0.0144\n",
      "Iteration: 5500 - Error: 0.0144\n",
      "Iteration: 5600 - Error: 0.0144\n",
      "Iteration: 5700 - Error: 0.0144\n",
      "Iteration: 5800 - Error: 0.0144\n",
      "Iteration: 5900 - Error: 0.0144\n",
      "Iteration: 6000 - Error: 0.0144\n",
      "Iteration: 6100 - Error: 0.0144\n",
      "Iteration: 6200 - Error: 0.0144\n",
      "Iteration: 6300 - Error: 0.0144\n",
      "Iteration: 6400 - Error: 0.0144\n",
      "Iteration: 6500 - Error: 0.0144\n",
      "Iteration: 6600 - Error: 0.0144\n",
      "Iteration: 6700 - Error: 0.0144\n",
      "Iteration: 6800 - Error: 0.0144\n",
      "Iteration: 6900 - Error: 0.0144\n",
      "Iteration: 7000 - Error: 0.0144\n",
      "Iteration: 7100 - Error: 0.0144\n",
      "Iteration: 7200 - Error: 0.0144\n",
      "Iteration: 7300 - Error: 0.0144\n",
      "Iteration: 7400 - Error: 0.0144\n",
      "Iteration: 7500 - Error: 0.0144\n",
      "Iteration: 7600 - Error: 0.0144\n",
      "Iteration: 7700 - Error: 0.0144\n",
      "Iteration: 7800 - Error: 0.0144\n",
      "Iteration: 7900 - Error: 0.0144\n",
      "Iteration: 8000 - Error: 0.0144\n",
      "Iteration: 8100 - Error: 0.0144\n",
      "Iteration: 8200 - Error: 0.0144\n",
      "Iteration: 8300 - Error: 0.0144\n",
      "Iteration: 8400 - Error: 0.0144\n",
      "Iteration: 8500 - Error: 0.0144\n",
      "Iteration: 8600 - Error: 0.0144\n",
      "Iteration: 8700 - Error: 0.0144\n",
      "Iteration: 8800 - Error: 0.0144\n",
      "Iteration: 8900 - Error: 0.0144\n",
      "Iteration: 9000 - Error: 0.0144\n",
      "Iteration: 9100 - Error: 0.0144\n",
      "Iteration: 9200 - Error: 0.0144\n",
      "Iteration: 9300 - Error: 0.0144\n",
      "Iteration: 9400 - Error: 0.0144\n",
      "Iteration: 9500 - Error: 0.0144\n",
      "Iteration: 9600 - Error: 0.0144\n",
      "Iteration: 9700 - Error: 0.0144\n",
      "Iteration: 9800 - Error: 0.0144\n",
      "Iteration: 9900 - Error: 0.0144\n",
      "Iteration: 10000 - Error: 0.0144\n",
      "Iteration: 10100 - Error: 0.0144\n",
      "Iteration: 10200 - Error: 0.0144\n",
      "Iteration: 10300 - Error: 0.0144\n",
      "Iteration: 10400 - Error: 0.0144\n",
      "Iteration: 10500 - Error: 0.0144\n",
      "Iteration: 10600 - Error: 0.0144\n",
      "Iteration: 10700 - Error: 0.0144\n",
      "Iteration: 10800 - Error: 0.0144\n",
      "Iteration: 10900 - Error: 0.0144\n",
      "Iteration: 11000 - Error: 0.0144\n",
      "Iteration: 11100 - Error: 0.0144\n",
      "Iteration: 11200 - Error: 0.0144\n",
      "Iteration: 11300 - Error: 0.0144\n",
      "Iteration: 11400 - Error: 0.0144\n",
      "Converged.\n",
      "w = [0.41630787 0.18210941]\n"
     ]
    }
   ],
   "source": [
    "w = LinearRegression(x_train, y_train)"
   ]
  },
  {
   "cell_type": "markdown",
   "metadata": {},
   "source": [
    "### Plot LR on train data"
   ]
  },
  {
   "cell_type": "code",
   "execution_count": 112,
   "metadata": {},
   "outputs": [
    {
     "data": {
      "image/png": "[encoded data removed]",
      "text/plain": [
       "<Figure size 432x288 with 1 Axes>"
      ]
     },
     "metadata": {
      "needs_background": "light"
     },
     "output_type": "display_data"
    }
   ],
   "source": [
    "plt.plot(x_train[:,1], x_train.dot(w), c='g', label='Model')\n",
    "plt.scatter(x_train[:,1], y_train, c='b', label='Train Set')\n",
    "plt.grid()\n",
    "plt.legend(loc='best')\n",
    "plt.xlabel('X')\n",
    "plt.ylabel('Y')\n",
    "plt.show()"
   ]
  },
  {
   "cell_type": "markdown",
   "metadata": {},
   "source": [
    "### LR on test data"
   ]
  },
  {
   "cell_type": "code",
   "execution_count": 113,
   "metadata": {},
   "outputs": [
    {
     "name": "stdout",
     "output_type": "stream",
     "text": [
      "Iteration: 100 - Error: 0.4853\n",
      "Iteration: 200 - Error: 0.0492\n",
      "Iteration: 300 - Error: 0.0191\n",
      "Iteration: 400 - Error: 0.0168\n",
      "Iteration: 500 - Error: 0.0164\n",
      "Iteration: 600 - Error: 0.0162\n",
      "Iteration: 700 - Error: 0.0161\n",
      "Iteration: 800 - Error: 0.0159\n",
      "Iteration: 900 - Error: 0.0158\n",
      "Iteration: 1000 - Error: 0.0157\n",
      "Iteration: 1100 - Error: 0.0156\n",
      "Iteration: 1200 - Error: 0.0155\n",
      "Iteration: 1300 - Error: 0.0154\n",
      "Iteration: 1400 - Error: 0.0153\n",
      "Iteration: 1500 - Error: 0.0153\n",
      "Iteration: 1600 - Error: 0.0152\n",
      "Iteration: 1700 - Error: 0.0152\n",
      "Iteration: 1800 - Error: 0.0152\n",
      "Iteration: 1900 - Error: 0.0151\n",
      "Iteration: 2000 - Error: 0.0151\n",
      "Iteration: 2100 - Error: 0.0151\n",
      "Iteration: 2200 - Error: 0.0150\n",
      "Iteration: 2300 - Error: 0.0150\n",
      "Iteration: 2400 - Error: 0.0150\n",
      "Iteration: 2500 - Error: 0.0150\n",
      "Iteration: 2600 - Error: 0.0150\n",
      "Iteration: 2700 - Error: 0.0150\n",
      "Iteration: 2800 - Error: 0.0150\n",
      "Iteration: 2900 - Error: 0.0150\n",
      "Iteration: 3000 - Error: 0.0150\n",
      "Iteration: 3100 - Error: 0.0150\n",
      "Iteration: 3200 - Error: 0.0149\n",
      "Iteration: 3300 - Error: 0.0149\n",
      "Iteration: 3400 - Error: 0.0149\n",
      "Iteration: 3500 - Error: 0.0149\n",
      "Iteration: 3600 - Error: 0.0149\n",
      "Iteration: 3700 - Error: 0.0149\n",
      "Iteration: 3800 - Error: 0.0149\n",
      "Iteration: 3900 - Error: 0.0149\n",
      "Iteration: 4000 - Error: 0.0149\n",
      "Iteration: 4100 - Error: 0.0149\n",
      "Iteration: 4200 - Error: 0.0149\n",
      "Iteration: 4300 - Error: 0.0149\n",
      "Iteration: 4400 - Error: 0.0149\n",
      "Iteration: 4500 - Error: 0.0149\n",
      "Iteration: 4600 - Error: 0.0149\n",
      "Iteration: 4700 - Error: 0.0149\n",
      "Iteration: 4800 - Error: 0.0149\n",
      "Iteration: 4900 - Error: 0.0149\n",
      "Iteration: 5000 - Error: 0.0149\n",
      "Iteration: 5100 - Error: 0.0149\n",
      "Iteration: 5200 - Error: 0.0149\n",
      "Iteration: 5300 - Error: 0.0149\n",
      "Iteration: 5400 - Error: 0.0149\n",
      "Iteration: 5500 - Error: 0.0149\n",
      "Iteration: 5600 - Error: 0.0149\n",
      "Iteration: 5700 - Error: 0.0149\n",
      "Iteration: 5800 - Error: 0.0149\n",
      "Iteration: 5900 - Error: 0.0149\n",
      "Iteration: 6000 - Error: 0.0149\n",
      "Iteration: 6100 - Error: 0.0149\n",
      "Iteration: 6200 - Error: 0.0149\n",
      "Iteration: 6300 - Error: 0.0149\n",
      "Iteration: 6400 - Error: 0.0149\n",
      "Iteration: 6500 - Error: 0.0149\n",
      "Iteration: 6600 - Error: 0.0149\n",
      "Iteration: 6700 - Error: 0.0149\n",
      "Iteration: 6800 - Error: 0.0149\n",
      "Iteration: 6900 - Error: 0.0149\n",
      "Iteration: 7000 - Error: 0.0149\n",
      "Iteration: 7100 - Error: 0.0149\n",
      "Iteration: 7200 - Error: 0.0149\n",
      "Iteration: 7300 - Error: 0.0149\n",
      "Iteration: 7400 - Error: 0.0149\n",
      "Iteration: 7500 - Error: 0.0149\n",
      "Iteration: 7600 - Error: 0.0149\n",
      "Iteration: 7700 - Error: 0.0149\n",
      "Iteration: 7800 - Error: 0.0149\n",
      "Iteration: 7900 - Error: 0.0149\n",
      "Iteration: 8000 - Error: 0.0149\n",
      "Iteration: 8100 - Error: 0.0149\n",
      "Iteration: 8200 - Error: 0.0149\n",
      "Iteration: 8300 - Error: 0.0149\n",
      "Iteration: 8400 - Error: 0.0149\n",
      "Iteration: 8500 - Error: 0.0149\n",
      "Iteration: 8600 - Error: 0.0149\n",
      "Iteration: 8700 - Error: 0.0149\n",
      "Iteration: 8800 - Error: 0.0149\n",
      "Iteration: 8900 - Error: 0.0149\n",
      "Iteration: 9000 - Error: 0.0149\n",
      "Iteration: 9100 - Error: 0.0149\n",
      "Iteration: 9200 - Error: 0.0149\n",
      "Iteration: 9300 - Error: 0.0149\n",
      "Iteration: 9400 - Error: 0.0149\n",
      "Iteration: 9500 - Error: 0.0149\n",
      "Iteration: 9600 - Error: 0.0149\n",
      "Iteration: 9700 - Error: 0.0149\n",
      "Iteration: 9800 - Error: 0.0149\n",
      "Iteration: 9900 - Error: 0.0149\n",
      "Iteration: 10000 - Error: 0.0149\n",
      "Iteration: 10100 - Error: 0.0149\n",
      "Iteration: 10200 - Error: 0.0149\n",
      "Iteration: 10300 - Error: 0.0149\n",
      "Iteration: 10400 - Error: 0.0149\n",
      "Iteration: 10500 - Error: 0.0149\n",
      "Iteration: 10600 - Error: 0.0149\n",
      "Iteration: 10700 - Error: 0.0149\n",
      "Converged.\n",
      "w = [-0.08793074  1.20713997]\n"
     ]
    }
   ],
   "source": [
    "w = LinearRegression(x_test, y_test)"
   ]
  },
  {
   "cell_type": "markdown",
   "metadata": {},
   "source": [
    "### Plot LR on test data"
   ]
  },
  {
   "cell_type": "code",
   "execution_count": 114,
   "metadata": {},
   "outputs": [
    {
     "data": {
      "image/png": "[encoded data removed]",
      "text/plain": [
       "<Figure size 432x288 with 1 Axes>"
      ]
     },
     "metadata": {
      "needs_background": "light"
     },
     "output_type": "display_data"
    }
   ],
   "source": [
    "plt.plot(x_test[:,1], x_test.dot(w), c='g', label='Model')\n",
    "plt.scatter(x_test[:,1], y_test, c='r', label='Train Set')\n",
    "plt.grid()\n",
    "plt.legend(loc='best')\n",
    "plt.xlabel('X')\n",
    "plt.ylabel('Y')\n",
    "plt.show()"
   ]
  },
  {
   "cell_type": "markdown",
   "metadata": {},
   "source": [
    "# \"\"\"\"\"\"\"\"\"\"\"\"\"\"\"\"\"\"\"\"\"\"\"\"\"\"\"\"\"\"\"\"\"\"\"\"\"\"\"\""
   ]
  },
  {
   "cell_type": "code",
   "execution_count": 156,
   "metadata": {},
   "outputs": [],
   "source": [
    "global model_order\n",
    "model_order = 5 # select model order\n",
    "\n",
    "x_train_p = np.load('x_train.npy')\n",
    "x_test_p = np.load('x_test.npy') \n",
    "\n",
    "x_train_p = NormalizeData(x_train_p)\n",
    "x_test_p = NormalizeData(x_test_p)\n",
    "\n",
    "x_train_p = np.power(x_train_p, range(model_order))\n",
    "x_test_p = np.power(x_test_p, range(model_order))"
   ]
  },
  {
   "cell_type": "markdown",
   "metadata": {},
   "source": [
    "### Polynomial regression function"
   ]
  },
  {
   "cell_type": "code",
   "execution_count": 157,
   "metadata": {},
   "outputs": [],
   "source": [
    "def PolyReg(x_train_p, y_train):\n",
    "\n",
    "    def get_gradient_p(w_p, x, y):\n",
    "        y_estimate = x.dot(w_p).flatten()\n",
    "        error = (y.flatten() - y_estimate)\n",
    "        mse = (1.0/len(x))*np.sum(np.power(error, 2))\n",
    "        gradient = -(1.0/len(x)) * error.dot(x)\n",
    "        return gradient, mse\n",
    "\n",
    "    w_p = np.random.randn(model_order)\n",
    "    alpha = 0.8\n",
    "    tolerance = 1e-6\n",
    "\n",
    "    # Perform Stochastic Gradient Descent\n",
    "    epochs = 1\n",
    "    decay = 0.99\n",
    "    batch_size = 10\n",
    "    iterations = 0\n",
    "    while True:\n",
    "        order = np.random.permutation(len(x_train_p))\n",
    "        x_train_p = x_train_p[order]\n",
    "        y_train = y_train[order]\n",
    "        b=0\n",
    "        while b < len(x_train_p):\n",
    "            tx = x_train_p[b : b+batch_size]\n",
    "            ty = y_train[b : b+batch_size]\n",
    "            gradient = get_gradient_p(w_p, tx, ty)[0]\n",
    "            error = get_gradient_p(w_p, x_train_p, y_train)[1]\n",
    "            w_p -= alpha * gradient\n",
    "            iterations += 1\n",
    "            b += batch_size\n",
    "\n",
    "        # Keep track of our performance\n",
    "        if epochs%100==0:\n",
    "            new_error = get_gradient_p(w_p, x_train_p, y_train)[1]\n",
    "            print(\"Epoch: %d - Error: %.4f\" %(epochs, new_error))\n",
    "\n",
    "            # Stopping Condition\n",
    "            if abs(new_error - error) < tolerance:\n",
    "                print(\"Converged.\")\n",
    "                break\n",
    "\n",
    "        alpha = alpha * (decay ** int(epochs/1000))\n",
    "        epochs += 1\n",
    "\n",
    "    print(\"w =\",w_p)\n",
    "    print(\"Total iterations =\", iterations)\n",
    "    \n",
    "    return w_p"
   ]
  },
  {
   "cell_type": "code",
   "execution_count": 152,
   "metadata": {},
   "outputs": [
    {
     "name": "stdout",
     "output_type": "stream",
     "text": [
      "Epoch: 100 - Error: 0.0061\n",
      "Epoch: 200 - Error: 0.0106\n",
      "Epoch: 300 - Error: 0.0055\n",
      "Epoch: 400 - Error: 0.0058\n",
      "Epoch: 500 - Error: 0.0064\n",
      "Epoch: 600 - Error: 0.0054\n",
      "Epoch: 700 - Error: 0.0053\n",
      "Epoch: 800 - Error: 0.0053\n",
      "Epoch: 900 - Error: 0.0053\n",
      "Epoch: 1000 - Error: 0.0052\n",
      "Epoch: 1100 - Error: 0.0050\n",
      "Epoch: 1200 - Error: 0.0050\n",
      "Epoch: 1300 - Error: 0.0050\n",
      "Converged.\n",
      "w = [ 0.29979285  1.49014475 -2.83444216  0.59526557  2.32474344 -1.13361579\n",
      " -0.40243801  0.30156204  0.52992552 -1.17567505 -0.74455599 -0.37386065\n",
      " -0.1051587   0.53443062  1.70869616]\n",
      "Total iterations = 13000\n"
     ]
    }
   ],
   "source": [
    "w_p = PolyReg(x_train_p, y_train)"
   ]
  },
  {
   "cell_type": "markdown",
   "metadata": {},
   "source": [
    "### Plot PLR on train data"
   ]
  },
  {
   "cell_type": "code",
   "execution_count": 153,
   "metadata": {},
   "outputs": [
    {
     "data": {
      "image/png": "[encoded data removed]",
      "text/plain": [
       "<Figure size 432x288 with 1 Axes>"
      ]
     },
     "metadata": {
      "needs_background": "light"
     },
     "output_type": "display_data"
    }
   ],
   "source": [
    "y_model = np.polyval(w_p[::-1], x_train_p[:,1])\n",
    "plt.scatter(x_train_p[:,1], y_model, c='g', label='Model')\n",
    "plt.scatter(x_train_p[:,1], y_train, c='b', label='Train Set')\n",
    "plt.grid()\n",
    "plt.legend(loc='best')\n",
    "plt.xlabel('X')\n",
    "plt.ylabel('Y')\n",
    "plt.xlim(0,1)\n",
    "plt.show()"
   ]
  },
  {
   "cell_type": "code",
   "execution_count": 154,
   "metadata": {},
   "outputs": [
    {
     "name": "stdout",
     "output_type": "stream",
     "text": [
      "Epoch: 100 - Error: 0.0035\n",
      "Epoch: 200 - Error: 0.0011\n",
      "Epoch: 300 - Error: 0.0021\n",
      "Epoch: 400 - Error: 0.0007\n",
      "Epoch: 500 - Error: 0.0023\n",
      "Epoch: 600 - Error: 0.0013\n",
      "Epoch: 700 - Error: 0.0005\n",
      "Epoch: 800 - Error: 0.0039\n",
      "Epoch: 900 - Error: 0.0004\n",
      "Epoch: 1000 - Error: 0.0010\n",
      "Epoch: 1100 - Error: 0.0004\n",
      "Epoch: 1200 - Error: 0.0004\n",
      "Converged.\n",
      "w = [ 0.09949239 -0.99873955  3.38358478  0.85208125 -0.08345447 -2.30716066\n",
      " -0.4139633   0.41902551  0.26069803 -1.28642963 -0.29205498  0.33127381\n",
      "  0.21020329  0.23217916  0.47293921]\n",
      "Total iterations = 12000\n"
     ]
    }
   ],
   "source": [
    "w_p_test = PolyReg(x_test_p, y_test)"
   ]
  },
  {
   "cell_type": "markdown",
   "metadata": {},
   "source": [
    "### Plot PLR on test data"
   ]
  },
  {
   "cell_type": "code",
   "execution_count": 159,
   "metadata": {},
   "outputs": [
    {
     "data": {
      "image/png": "[encoded data removed]",
      "text/plain": [
       "<Figure size 432x288 with 1 Axes>"
      ]
     },
     "metadata": {
      "needs_background": "light"
     },
     "output_type": "display_data"
    }
   ],
   "source": [
    "y_model_test = np.polyval(w_p_test[::-1], x_test_p[:,1])\n",
    "plt.scatter(x_test_p[:,1], y_model_test, c='g', label='Model')\n",
    "plt.scatter(x_test_p[:,1], y_test, c='r', label='Test Set')\n",
    "plt.grid()\n",
    "plt.legend(loc='best')\n",
    "plt.xlabel('X')\n",
    "plt.ylabel('Y')\n",
    "plt.xlim(0,1)\n",
    "plt.show()"
   ]
  }
 ],
 "metadata": {
  "kernelspec": {
   "display_name": "Python 3",
   "language": "python",
   "name": "python3"
  },
  "language_info": {
   "codemirror_mode": {
    "name": "ipython",
    "version": 3
   },
   "file_extension": ".py",
   "mimetype": "text/x-python",
   "name": "python",
   "nbconvert_exporter": "python",
   "pygments_lexer": "ipython3",
   "version": "3.8.3"
  },
  "varInspector": {
   "cols": {
    "lenName": 16,
    "lenType": 16,
    "lenVar": 40
   },
   "kernels_config": {
    "python": {
     "delete_cmd_postfix": "",
     "delete_cmd_prefix": "del ",
     "library": "var_list.py",
     "varRefreshCmd": "print(var_dic_list())"
    },
    "r": {
     "delete_cmd_postfix": ") ",
     "delete_cmd_prefix": "rm(",
     "library": "var_list.r",
     "varRefreshCmd": "cat(var_dic_list()) "
    }
   },
   "position": {
    "height": "479.844px",
    "left": "1286px",
    "right": "20px",
    "top": "128px",
    "width": "385px"
   },
   "types_to_exclude": [
    "module",
    "function",
    "builtin_function_or_method",
    "instance",
    "_Feature"
   ],
   "window_display": false
  }
 },
 "nbformat": 4,
 "nbformat_minor": 4
}

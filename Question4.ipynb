{
 "cells": [
  {
   "cell_type": "code",
   "execution_count": 1,
   "metadata": {},
   "outputs": [],
   "source": [
    "import cv2\n",
    "import matplotlib.pyplot as plt \n",
    "import numpy as np\n",
    "img = cv2.imread('input.png')\n",
    "height, width, channels = np.shape(img)"
   ]
  },
  {
   "cell_type": "code",
   "execution_count": 2,
   "metadata": {},
   "outputs": [],
   "source": [
    "def initialize_centroids(img, clusters):  # clusters or the number of colors\n",
    "    # reshaping it or flattening it into a 2d matrix \n",
    "    pixels = np.reshape(img, (height * width, channels)) \n",
    "    m, n = pixels.shape \n",
    "\n",
    "    # centroids \n",
    "    centroids = np.zeros((clusters, n)) \n",
    "\n",
    "    # random initialization of centroids\n",
    "    for i in range(clusters): \n",
    "        rand1 = int(np.random.random(1)*10) \n",
    "        rand2 = int(np.random.random(1)*8) \n",
    "        centroids[i, 0] = pixels[rand1, 0] \n",
    "        centroids[i, 1] = pixels[rand2, 1]\n",
    "        centroids[i, 2] = pixels[rand2, 2]\n",
    "    return pixels, centroids "
   ]
  },
  {
   "cell_type": "code",
   "execution_count": 3,
   "metadata": {},
   "outputs": [],
   "source": [
    "# measure the euclidean distance\n",
    "def distance(x1, y1, x2, y2): \n",
    "    dist = np.square(x1 - x2) + np.square(y1 - y2) \n",
    "    return np.sqrt(dist)"
   ]
  },
  {
   "cell_type": "code",
   "execution_count": 4,
   "metadata": {},
   "outputs": [],
   "source": [
    "def k_means(pixels, centroids, clusters): \n",
    "\n",
    "    iterations = 10 # the number of iterations \n",
    "    m, n = pixels.shape \n",
    "\n",
    "    # index values that correspond to the cluster \n",
    "    index = np.zeros(m) \n",
    "\n",
    "    # k-means algorithm. \n",
    "    while(iterations > 0): \n",
    "        for j in range(len(pixels)): \n",
    "            # initialize minimum value\n",
    "            minv = 1000\n",
    "            temp = None\n",
    "            for k in range(clusters): \n",
    "                x1 = pixels[j, 0] \n",
    "                y1 = pixels[j, 1] \n",
    "                x2 = centroids[k, 0] \n",
    "                y2 = centroids[k, 1] \n",
    "                if(distance(x1, y1, x2, y2) < minv):\n",
    "                    minv = distance(x1, y1, x2, y2) \n",
    "                    temp = k \n",
    "                    index[j] = k \n",
    "        for k in range(clusters): \n",
    "            sumx = 0\n",
    "            sumy = 0\n",
    "            count = 0\n",
    "            for j in range(len(pixels)): \n",
    "                if(index[j] == k): \n",
    "                    sumx += pixels[j, 0] \n",
    "                    sumy += pixels[j, 1] \n",
    "                    count += 1\n",
    "            if(count == 0): \n",
    "                count = 1\n",
    "                centroids[k, 0] = float(sumx / count) \n",
    "                centroids[k, 1] = float(sumy / count)\n",
    "        iterations -= 1\n",
    "    return centroids, index "
   ]
  },
  {
   "cell_type": "code",
   "execution_count": 5,
   "metadata": {},
   "outputs": [],
   "source": [
    "def recovered_image(means, index, img): \n",
    "    # assigning each pixel to its corresponding centroid. \n",
    "    centroid = np.array(means) \n",
    "    recovered = centroid[index.astype(int), :] \n",
    "    # getting back the image\n",
    "    recovered = np.reshape(recovered, (height, width, channels)) \n",
    "    \n",
    "    plt.imshow(recovered.astype('uint8'))\n",
    "    plt.show() \n",
    "    cv2.imwrite('recovered_image.png',recovered)\n",
    "    \n",
    "    return recovered"
   ]
  },
  {
   "cell_type": "code",
   "execution_count": null,
   "metadata": {},
   "outputs": [],
   "source": [
    "clusters = 200\n",
    "pixels, centroids = initialize_centroids(img, clusters)\n",
    "means, index = k_means(pixels, centroids, clusters) \n",
    "recovered = recovered_image(means, index, img)"
   ]
  },
  {
   "cell_type": "code",
   "execution_count": 10,
   "metadata": {},
   "outputs": [
    {
     "data": {
      "text/plain": [
       "-1"
      ]
     },
     "execution_count": 10,
     "metadata": {},
     "output_type": "execute_result"
    }
   ],
   "source": [
    "cv2.imshow(\"image\", recovered)\n",
    "cv2.waitKey(0)"
   ]
  }
 ],
 "metadata": {
  "kernelspec": {
   "display_name": "Python 3",
   "language": "python",
   "name": "python3"
  },
  "language_info": {
   "codemirror_mode": {
    "name": "ipython",
    "version": 3
   },
   "file_extension": ".py",
   "mimetype": "text/x-python",
   "name": "python",
   "nbconvert_exporter": "python",
   "pygments_lexer": "ipython3",
   "version": "3.8.3"
  },
  "varInspector": {
   "cols": {
    "lenName": 16,
    "lenType": 16,
    "lenVar": 40
   },
   "kernels_config": {
    "python": {
     "delete_cmd_postfix": "",
     "delete_cmd_prefix": "del ",
     "library": "var_list.py",
     "varRefreshCmd": "print(var_dic_list())"
    },
    "r": {
     "delete_cmd_postfix": ") ",
     "delete_cmd_prefix": "rm(",
     "library": "var_list.r",
     "varRefreshCmd": "cat(var_dic_list()) "
    }
   },
   "position": {
    "height": "307.844px",
    "left": "1547px",
    "right": "20px",
    "top": "121px",
    "width": "350px"
   },
   "types_to_exclude": [
    "module",
    "function",
    "builtin_function_or_method",
    "instance",
    "_Feature"
   ],
   "window_display": true
  }
 },
 "nbformat": 4,
 "nbformat_minor": 4
}
